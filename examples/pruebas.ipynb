{
 "cells": [
  {
   "cell_type": "code",
   "execution_count": 1,
   "metadata": {},
   "outputs": [],
   "source": [
    "import numpy as np\n",
    "\n",
    "from qoptcraft.optical_elements import beam_splitter\n",
    "from qoptcraft.evolution import photon_unitary\n",
    "from qoptcraft.state import Fock\n",
    "\n",
    "from qoptcraft.invariant import projection_density, spectral_invariant\n",
    "\n",
    "np.set_printoptions(edgeitems=30, linewidth=100000, formatter=dict(float=lambda x: \"%.3g\" % x))"
   ]
  },
  {
   "cell_type": "code",
   "execution_count": 2,
   "metadata": {},
   "outputs": [],
   "source": [
    "from qoptcraft.basis import complete_photon_basis, photon_basis"
   ]
  },
  {
   "cell_type": "code",
   "execution_count": 7,
   "metadata": {},
   "outputs": [],
   "source": [
    "first_fock = [[2,1,0], [1,1,1]]"
   ]
  },
  {
   "cell_type": "code",
   "execution_count": 8,
   "metadata": {},
   "outputs": [
    {
     "data": {
      "text/plain": [
       "[(3, 0, 0),\n",
       " (2, 0, 1),\n",
       " (1, 2, 0),\n",
       " (1, 0, 2),\n",
       " (0, 3, 0),\n",
       " (0, 2, 1),\n",
       " (0, 1, 2),\n",
       " (0, 0, 3)]"
      ]
     },
     "execution_count": 8,
     "metadata": {},
     "output_type": "execute_result"
    }
   ],
   "source": [
    "complete_photon_basis(first_fock)"
   ]
  },
  {
   "cell_type": "code",
   "execution_count": 9,
   "metadata": {},
   "outputs": [
    {
     "data": {
      "text/plain": [
       "[(3, 0, 0),\n",
       " (2, 1, 0),\n",
       " (2, 0, 1),\n",
       " (1, 2, 0),\n",
       " (1, 1, 1),\n",
       " (1, 0, 2),\n",
       " (0, 3, 0),\n",
       " (0, 2, 1),\n",
       " (0, 1, 2),\n",
       " (0, 0, 3)]"
      ]
     },
     "execution_count": 9,
     "metadata": {},
     "output_type": "execute_result"
    }
   ],
   "source": [
    "photon_basis(3,3)"
   ]
  },
  {
   "cell_type": "code",
   "execution_count": 5,
   "metadata": {},
   "outputs": [
    {
     "data": {
      "text/plain": [
       "(1, 2, 1)"
      ]
     },
     "execution_count": 5,
     "metadata": {},
     "output_type": "execute_result"
    }
   ],
   "source": [
    "tuple([1,2,1])"
   ]
  },
  {
   "cell_type": "code",
   "execution_count": 8,
   "metadata": {},
   "outputs": [
    {
     "data": {
      "text/plain": [
       "array([18, 18, 18, 18, 18, 18, 18])"
      ]
     },
     "execution_count": 8,
     "metadata": {},
     "output_type": "execute_result"
    }
   ],
   "source": [
    "spectral_invariant(Fock(3,3))"
   ]
  },
  {
   "cell_type": "code",
   "execution_count": 9,
   "metadata": {},
   "outputs": [
    {
     "data": {
      "text/plain": [
       "array([18, 18, 18, 18, 18, 18, 18])"
      ]
     },
     "execution_count": 9,
     "metadata": {},
     "output_type": "execute_result"
    }
   ],
   "source": [
    "spectral_invariant(Fock(6,0) + Fock(0,6))"
   ]
  },
  {
   "cell_type": "code",
   "execution_count": 37,
   "metadata": {},
   "outputs": [],
   "source": [
    "def heralded_fock(a):\n",
    "    return a[0] * Fock(2,0) + a[1] * Fock(0,2) + a[2] * Fock(1,1)"
   ]
  },
  {
   "cell_type": "code",
   "execution_count": 38,
   "metadata": {},
   "outputs": [],
   "source": [
    "def cost(a):\n",
    "    state = heralded_fock(a)\n",
    "    invariant = spectral_invariant(state)\n",
    "    target_invariant = np.array([2,2,2])\n",
    "    c = np.inner(target_invariant - invariant, target_invariant - invariant)\n",
    "    # print(f\"cost = {c}\")\n",
    "    return c"
   ]
  },
  {
   "cell_type": "code",
   "execution_count": 54,
   "metadata": {},
   "outputs": [
    {
     "name": "stdout",
     "output_type": "stream",
     "text": [
      "Photon basis saved in /Users/KaerMorhen/Documents/Code projects/qoptcraft/examples/save_basis/m=4 n=3/photon.pkl.\n"
     ]
    },
    {
     "data": {
      "text/plain": [
       "array([[-8.71904919e-01+0.j,  4.67154541e-01-0.j,  0.00000000e+00+0.j,  0.00000000e+00+0.j, -1.44507835e-01+0.j,  0.00000000e+00+0.j,  0.00000000e+00+0.j,  0.00000000e+00+0.j,  0.00000000e+00+0.j,  0.00000000e+00+0.j,  2.58084301e-02-0.j,  0.00000000e+00+0.j,  0.00000000e+00+0.j,  0.00000000e+00+0.j,  0.00000000e+00+0.j,  0.00000000e+00+0.j,  0.00000000e+00+0.j,  0.00000000e+00+0.j,  0.00000000e+00+0.j,  0.00000000e+00+0.j],\n",
       "       [-4.67154541e-01+0.j, -7.05041644e-01+0.j,  0.00000000e+00+0.j,  0.00000000e+00+0.j,  5.13615170e-01-0.j,  0.00000000e+00+0.j,  0.00000000e+00+0.j,  0.00000000e+00+0.j,  0.00000000e+00+0.j,  0.00000000e+00+0.j, -1.44507835e-01+0.j,  0.00000000e+00+0.j,  0.00000000e+00+0.j,  0.00000000e+00+0.j,  0.00000000e+00+0.j,  0.00000000e+00+0.j,  0.00000000e+00+0.j,  0.00000000e+00+0.j,  0.00000000e+00+0.j,  0.00000000e+00+0.j],\n",
       "       [ 0.00000000e+00+0.j,  0.00000000e+00+0.j, -8.71904919e-01+0.j,  2.69711800e-01-0.j,  0.00000000e+00+0.j,  3.81430086e-01-0.j, -1.17990153e-01+0.j,  0.00000000e+00+0.j,  0.00000000e+00+0.j,  0.00000000e+00+0.j,  0.00000000e+00+0.j, -8.34316375e-02+0.j,  2.58084301e-02-0.j,  0.00000000e+00+0.j,  0.00000000e+00+0.j,  0.00000000e+00+0.j,  0.00000000e+00+0.j,  0.00000000e+00+0.j,  0.00000000e+00+0.j,  0.00000000e+00+0.j],\n",
       "       [ 0.00000000e+00+0.j,  0.00000000e+00+0.j, -2.69711800e-01+0.j, -8.71904919e-01+0.j,  0.00000000e+00+0.j,  1.17990153e-01-0.j,  3.81430086e-01-0.j,  0.00000000e+00+0.j,  0.00000000e+00+0.j,  0.00000000e+00+0.j,  0.00000000e+00+0.j, -2.58084301e-02+0.j, -8.34316375e-02+0.j,  0.00000000e+00+0.j,  0.00000000e+00+0.j,  0.00000000e+00+0.j,  0.00000000e+00+0.j,  0.00000000e+00+0.j,  0.00000000e+00+0.j,  0.00000000e+00+0.j],\n",
       "       [-1.44507835e-01+0.j, -5.13615170e-01+0.j,  0.00000000e+00+0.j,  0.00000000e+00+0.j, -7.05041644e-01+0.j,  0.00000000e+00+0.j,  0.00000000e+00+0.j,  0.00000000e+00+0.j,  0.00000000e+00+0.j,  0.00000000e+00+0.j,  4.67154541e-01-0.j,  0.00000000e+00+0.j,  0.00000000e+00+0.j,  0.00000000e+00+0.j,  0.00000000e+00+0.j,  0.00000000e+00+0.j,  0.00000000e+00+0.j,  0.00000000e+00+0.j,  0.00000000e+00+0.j,  0.00000000e+00+0.j],\n",
       "       [ 0.00000000e+00+0.j,  0.00000000e+00+0.j, -3.81430086e-01+0.j,  1.17990153e-01-0.j,  0.00000000e+00+0.j, -7.88473282e-01+0.j,  2.43903370e-01-0.j,  0.00000000e+00+0.j,  6.93889390e-18-0.j, -1.22663473e-18+0.j,  0.00000000e+00+0.j,  3.81430086e-01-0.j, -1.17990153e-01+0.j,  0.00000000e+00+0.j,  0.00000000e+00+0.j,  0.00000000e+00+0.j,  0.00000000e+00+0.j,  0.00000000e+00+0.j,  0.00000000e+00+0.j,  0.00000000e+00+0.j],\n",
       "       [ 0.00000000e+00+0.j,  0.00000000e+00+0.j, -1.17990153e-01+0.j, -3.81430086e-01+0.j,  0.00000000e+00+0.j, -2.43903370e-01+0.j, -7.88473282e-01+0.j, -1.22663473e-18+0.j, -6.93889390e-18+0.j,  0.00000000e+00+0.j,  0.00000000e+00+0.j,  1.17990153e-01-0.j,  3.81430086e-01-0.j,  0.00000000e+00+0.j,  0.00000000e+00+0.j,  0.00000000e+00+0.j,  0.00000000e+00+0.j,  0.00000000e+00+0.j,  0.00000000e+00+0.j,  0.00000000e+00+0.j],\n",
       "       [ 0.00000000e+00+0.j,  0.00000000e+00+0.j,  0.00000000e+00+0.j,  0.00000000e+00+0.j,  0.00000000e+00+0.j,  0.00000000e+00+0.j,  0.00000000e+00+0.j, -8.71904919e-01+0.j,  3.81430086e-01-0.j, -8.34316375e-02+0.j,  0.00000000e+00+0.j,  0.00000000e+00+0.j,  0.00000000e+00+0.j,  2.69711800e-01-0.j, -1.17990153e-01+0.j,  2.58084301e-02-0.j,  0.00000000e+00+0.j,  0.00000000e+00+0.j,  0.00000000e+00+0.j,  0.00000000e+00+0.j],\n",
       "       [ 0.00000000e+00+0.j,  0.00000000e+00+0.j,  0.00000000e+00+0.j,  0.00000000e+00+0.j,  0.00000000e+00+0.j,  0.00000000e+00+0.j,  0.00000000e+00+0.j, -3.81430086e-01+0.j, -7.88473282e-01+0.j,  3.81430086e-01-0.j,  0.00000000e+00+0.j,  0.00000000e+00+0.j,  0.00000000e+00+0.j,  1.17990153e-01-0.j,  2.43903370e-01-0.j, -1.17990153e-01+0.j,  0.00000000e+00+0.j,  0.00000000e+00+0.j,  0.00000000e+00+0.j,  0.00000000e+00+0.j],\n",
       "       [ 0.00000000e+00+0.j,  0.00000000e+00+0.j,  0.00000000e+00+0.j,  0.00000000e+00+0.j,  0.00000000e+00+0.j,  0.00000000e+00+0.j,  0.00000000e+00+0.j, -8.34316375e-02+0.j, -3.81430086e-01+0.j, -8.71904919e-01+0.j,  0.00000000e+00+0.j,  0.00000000e+00+0.j,  0.00000000e+00+0.j,  2.58084301e-02-0.j,  1.17990153e-01-0.j,  2.69711800e-01-0.j,  0.00000000e+00+0.j,  0.00000000e+00+0.j,  0.00000000e+00+0.j,  0.00000000e+00+0.j],\n",
       "       [-2.58084301e-02+0.j, -1.44507835e-01+0.j,  0.00000000e+00+0.j,  0.00000000e+00+0.j, -4.67154541e-01+0.j,  0.00000000e+00+0.j,  0.00000000e+00+0.j,  0.00000000e+00+0.j,  0.00000000e+00+0.j,  0.00000000e+00+0.j, -8.71904919e-01+0.j,  0.00000000e+00+0.j,  0.00000000e+00+0.j,  0.00000000e+00+0.j,  0.00000000e+00+0.j,  0.00000000e+00+0.j,  0.00000000e+00+0.j,  0.00000000e+00+0.j,  0.00000000e+00+0.j,  0.00000000e+00+0.j],\n",
       "       [ 0.00000000e+00+0.j,  0.00000000e+00+0.j, -8.34316375e-02+0.j,  2.58084301e-02-0.j,  0.00000000e+00+0.j, -3.81430086e-01+0.j,  1.17990153e-01-0.j,  0.00000000e+00+0.j,  0.00000000e+00+0.j,  0.00000000e+00+0.j,  0.00000000e+00+0.j, -8.71904919e-01+0.j,  2.69711800e-01-0.j,  0.00000000e+00+0.j,  0.00000000e+00+0.j,  0.00000000e+00+0.j,  0.00000000e+00+0.j,  0.00000000e+00+0.j,  0.00000000e+00+0.j,  0.00000000e+00+0.j],\n",
       "       [ 0.00000000e+00+0.j,  0.00000000e+00+0.j, -2.58084301e-02+0.j, -8.34316375e-02+0.j,  0.00000000e+00+0.j, -1.17990153e-01+0.j, -3.81430086e-01+0.j,  0.00000000e+00+0.j,  0.00000000e+00+0.j,  0.00000000e+00+0.j,  0.00000000e+00+0.j, -2.69711800e-01+0.j, -8.71904919e-01+0.j,  0.00000000e+00+0.j,  0.00000000e+00+0.j,  0.00000000e+00+0.j,  0.00000000e+00+0.j,  0.00000000e+00+0.j,  0.00000000e+00+0.j,  0.00000000e+00+0.j],\n",
       "       [ 0.00000000e+00+0.j,  0.00000000e+00+0.j,  0.00000000e+00+0.j,  0.00000000e+00+0.j,  0.00000000e+00+0.j,  0.00000000e+00+0.j,  0.00000000e+00+0.j, -2.69711800e-01+0.j,  1.17990153e-01-0.j, -2.58084301e-02+0.j,  0.00000000e+00+0.j,  0.00000000e+00+0.j,  0.00000000e+00+0.j, -8.71904919e-01+0.j,  3.81430086e-01-0.j, -8.34316375e-02+0.j,  0.00000000e+00+0.j,  0.00000000e+00+0.j,  0.00000000e+00+0.j,  0.00000000e+00+0.j],\n",
       "       [ 0.00000000e+00+0.j,  0.00000000e+00+0.j,  0.00000000e+00+0.j,  0.00000000e+00+0.j,  0.00000000e+00+0.j,  0.00000000e+00+0.j,  0.00000000e+00+0.j, -1.17990153e-01+0.j, -2.43903370e-01+0.j,  1.17990153e-01-0.j,  0.00000000e+00+0.j,  0.00000000e+00+0.j,  0.00000000e+00+0.j, -3.81430086e-01+0.j, -7.88473282e-01+0.j,  3.81430086e-01-0.j,  0.00000000e+00+0.j,  0.00000000e+00+0.j,  0.00000000e+00+0.j,  0.00000000e+00+0.j],\n",
       "       [ 0.00000000e+00+0.j,  0.00000000e+00+0.j,  0.00000000e+00+0.j,  0.00000000e+00+0.j,  0.00000000e+00+0.j,  0.00000000e+00+0.j,  0.00000000e+00+0.j, -2.58084301e-02+0.j, -1.17990153e-01+0.j, -2.69711800e-01+0.j,  0.00000000e+00+0.j,  0.00000000e+00+0.j,  0.00000000e+00+0.j, -8.34316375e-02+0.j, -3.81430086e-01+0.j, -8.71904919e-01+0.j,  0.00000000e+00+0.j,  0.00000000e+00+0.j,  0.00000000e+00+0.j,  0.00000000e+00+0.j],\n",
       "       [ 0.00000000e+00+0.j,  0.00000000e+00+0.j,  0.00000000e+00+0.j,  0.00000000e+00+0.j,  0.00000000e+00+0.j,  0.00000000e+00+0.j,  0.00000000e+00+0.j,  0.00000000e+00+0.j,  0.00000000e+00+0.j,  0.00000000e+00+0.j,  0.00000000e+00+0.j,  0.00000000e+00+0.j,  0.00000000e+00+0.j,  0.00000000e+00+0.j,  0.00000000e+00+0.j,  0.00000000e+00+0.j, -8.71904919e-01+0.j,  4.67154541e-01-0.j, -1.44507835e-01+0.j,  2.58084301e-02-0.j],\n",
       "       [ 0.00000000e+00+0.j,  0.00000000e+00+0.j,  0.00000000e+00+0.j,  0.00000000e+00+0.j,  0.00000000e+00+0.j,  0.00000000e+00+0.j,  0.00000000e+00+0.j,  0.00000000e+00+0.j,  0.00000000e+00+0.j,  0.00000000e+00+0.j,  0.00000000e+00+0.j,  0.00000000e+00+0.j,  0.00000000e+00+0.j,  0.00000000e+00+0.j,  0.00000000e+00+0.j,  0.00000000e+00+0.j, -4.67154541e-01+0.j, -7.05041644e-01+0.j,  5.13615170e-01-0.j, -1.44507835e-01+0.j],\n",
       "       [ 0.00000000e+00+0.j,  0.00000000e+00+0.j,  0.00000000e+00+0.j,  0.00000000e+00+0.j,  0.00000000e+00+0.j,  0.00000000e+00+0.j,  0.00000000e+00+0.j,  0.00000000e+00+0.j,  0.00000000e+00+0.j,  0.00000000e+00+0.j,  0.00000000e+00+0.j,  0.00000000e+00+0.j,  0.00000000e+00+0.j,  0.00000000e+00+0.j,  0.00000000e+00+0.j,  0.00000000e+00+0.j, -1.44507835e-01+0.j, -5.13615170e-01+0.j, -7.05041644e-01+0.j,  4.67154541e-01-0.j],\n",
       "       [ 0.00000000e+00+0.j,  0.00000000e+00+0.j,  0.00000000e+00+0.j,  0.00000000e+00+0.j,  0.00000000e+00+0.j,  0.00000000e+00+0.j,  0.00000000e+00+0.j,  0.00000000e+00+0.j,  0.00000000e+00+0.j,  0.00000000e+00+0.j,  0.00000000e+00+0.j,  0.00000000e+00+0.j,  0.00000000e+00+0.j,  0.00000000e+00+0.j,  0.00000000e+00+0.j,  0.00000000e+00+0.j, -2.58084301e-02+0.j, -1.44507835e-01+0.j, -4.67154541e-01+0.j, -8.71904919e-01+0.j]])"
      ]
     },
     "execution_count": 54,
     "metadata": {},
     "output_type": "execute_result"
    }
   ],
   "source": [
    "import scipy as sp\n",
    "BS = beam_splitter(0.3,0,2,0,1)\n",
    "S = sp.linalg.block_diag(BS,BS)\n",
    "\n",
    "photon_unitary(S,3)"
   ]
  },
  {
   "cell_type": "code",
   "execution_count": 39,
   "metadata": {},
   "outputs": [
    {
     "data": {
      "text/plain": [
       " message: Optimization terminated successfully.\n",
       " success: True\n",
       "  status: 1\n",
       "     fun: 9.469774192596131e-08\n",
       "       x: [ 4.488e-01 -4.489e-01  1.733e+00]\n",
       "    nfev: 46\n",
       "   maxcv: 0.0"
      ]
     },
     "execution_count": 39,
     "metadata": {},
     "output_type": "execute_result"
    }
   ],
   "source": [
    "from scipy.optimize import minimize\n",
    "\n",
    "x0 = np.array([0.2,0.2,0.2])\n",
    "minimize(cost, x0, method=\"COBYLA\")"
   ]
  },
  {
   "cell_type": "code",
   "execution_count": 40,
   "metadata": {},
   "outputs": [
    {
     "data": {
      "text/plain": [
       "0.24 * (2, 0) + \n",
       "0.94 * (1, 1) + \n",
       "-0.24 * (0, 2)"
      ]
     },
     "execution_count": 40,
     "metadata": {},
     "output_type": "execute_result"
    }
   ],
   "source": [
    "state = heralded_fock([4.488e-01, -4.489e-01,  1.733e+00])\n",
    "state"
   ]
  },
  {
   "cell_type": "code",
   "execution_count": 36,
   "metadata": {},
   "outputs": [
    {
     "data": {
      "text/plain": [
       "array([1.99984678, 2.00000006, 2.00015334])"
      ]
     },
     "execution_count": 36,
     "metadata": {},
     "output_type": "execute_result"
    }
   ],
   "source": [
    "spectral_invariant(state)"
   ]
  },
  {
   "cell_type": "code",
   "execution_count": 12,
   "metadata": {},
   "outputs": [
    {
     "data": {
      "text/plain": [
       "0.07 * (2, 0) + \n",
       "-0.45 * (1, 1) + \n",
       "0.89 * (0, 2)"
      ]
     },
     "execution_count": 12,
     "metadata": {},
     "output_type": "execute_result"
    }
   ],
   "source": [
    "heralded_fock([0.3,4,-2])"
   ]
  },
  {
   "cell_type": "code",
   "execution_count": 30,
   "metadata": {},
   "outputs": [
    {
     "ename": "TypeError",
     "evalue": "heralded_fock() takes 1 positional argument but 2 were given",
     "output_type": "error",
     "traceback": [
      "\u001b[0;31m---------------------------------------------------------------------------\u001b[0m",
      "\u001b[0;31mTypeError\u001b[0m                                 Traceback (most recent call last)",
      "Cell \u001b[0;32mIn[30], line 3\u001b[0m\n\u001b[1;32m      1\u001b[0m \u001b[38;5;28;01mfrom\u001b[39;00m \u001b[38;5;21;01mqoptcraft\u001b[39;00m\u001b[38;5;21;01m.\u001b[39;00m\u001b[38;5;21;01minvariant\u001b[39;00m \u001b[38;5;28;01mimport\u001b[39;00m projection_density, spectral_invariant\n\u001b[0;32m----> 3\u001b[0m spectral_invariant(\u001b[43mheralded_fock\u001b[49m\u001b[43m(\u001b[49m\u001b[38;5;241;43m0.5\u001b[39;49m\u001b[43m,\u001b[49m\u001b[38;5;241;43m0\u001b[39;49m\u001b[43m)\u001b[49m)\n",
      "\u001b[0;31mTypeError\u001b[0m: heralded_fock() takes 1 positional argument but 2 were given"
     ]
    }
   ],
   "source": [
    "from qoptcraft.invariant import projection_density, spectral_invariant\n",
    "\n",
    "spectral_invariant(heralded_fock(0.5,0))"
   ]
  },
  {
   "cell_type": "code",
   "execution_count": 14,
   "metadata": {},
   "outputs": [
    {
     "data": {
      "text/plain": [
       "array([2., 2., 2.])"
      ]
     },
     "execution_count": 14,
     "metadata": {},
     "output_type": "execute_result"
    }
   ],
   "source": [
    "spectral_invariant(Fock(1,1))"
   ]
  },
  {
   "cell_type": "code",
   "execution_count": 2,
   "metadata": {},
   "outputs": [
    {
     "data": {
      "text/plain": [
       "array([1.39999992+0.j, 1.5999999 +0.j, 0.        +0.j, 0.        +0.j])"
      ]
     },
     "execution_count": 2,
     "metadata": {},
     "output_type": "execute_result"
    }
   ],
   "source": [
    "from qoptcraft.invariant import projection_coefs\n",
    "\n",
    "state = Fock(1,2) + 0.5 * Fock(3,0)\n",
    "state_projection_coefs = projection_coefs(state)\n",
    "state_projection_coefs"
   ]
  },
  {
   "cell_type": "code",
   "execution_count": 3,
   "metadata": {},
   "outputs": [
    {
     "data": {
      "text/plain": [
       "matrix([[0.+4.19999975j, 0.+0.j        , 0.+0.j        , 0.+0.j        ],\n",
       "        [0.+0.j        , 0.+4.39999974j, 0.+0.j        , 0.+0.j        ],\n",
       "        [0.+0.j        , 0.+0.j        , 0.+4.59999973j, 0.+0.j        ],\n",
       "        [0.+0.j        , 0.+0.j        , 0.+0.j        , 0.+4.79999971j]])"
      ]
     },
     "execution_count": 3,
     "metadata": {},
     "output_type": "execute_result"
    }
   ],
   "source": [
    "from qoptcraft.invariant import projection_density\n",
    "state_projetion = projection_density(state)\n",
    "state_projetion"
   ]
  },
  {
   "cell_type": "code",
   "execution_count": 4,
   "metadata": {},
   "outputs": [
    {
     "data": {
      "text/plain": [
       "matrix([[0.+4.19999975j, 0.+0.j        , 0.+0.j        , 0.+0.j        ],\n",
       "        [0.+0.j        , 0.+4.39999974j, 0.+0.j        , 0.+0.j        ],\n",
       "        [0.+0.j        , 0.+0.j        , 0.+4.59999973j, 0.+0.j        ],\n",
       "        [0.+0.j        , 0.+0.j        , 0.+0.j        , 0.+4.79999971j]])"
      ]
     },
     "execution_count": 4,
     "metadata": {},
     "output_type": "execute_result"
    }
   ],
   "source": [
    "from qoptcraft.basis import image_matrix_from_coefs\n",
    "\n",
    "image_matrix_from_coefs(state_projection_coefs, state.modes, state.photons)"
   ]
  },
  {
   "cell_type": "code",
   "execution_count": null,
   "metadata": {},
   "outputs": [
    {
     "ename": "TypeError",
     "evalue": "hermitian_matrix_from_coefs() missing 1 required positional argument: 'dim'",
     "output_type": "error",
     "traceback": [
      "\u001b[0;31m---------------------------------------------------------------------------\u001b[0m",
      "\u001b[0;31mTypeError\u001b[0m                                 Traceback (most recent call last)",
      "Cell \u001b[0;32mIn[5], line 3\u001b[0m\n\u001b[1;32m      1\u001b[0m \u001b[38;5;28;01mfrom\u001b[39;00m \u001b[38;5;21;01mqoptcraft\u001b[39;00m\u001b[38;5;21;01m.\u001b[39;00m\u001b[38;5;21;01mbasis\u001b[39;00m \u001b[38;5;28;01mimport\u001b[39;00m hermitian_matrix_from_coefs\n\u001b[0;32m----> 3\u001b[0m hamiltonian \u001b[38;5;241m=\u001b[39m \u001b[43mhermitian_matrix_from_coefs\u001b[49m\u001b[43m(\u001b[49m\u001b[43mstate_projection_coefs\u001b[49m\u001b[43m)\u001b[49m\n\u001b[1;32m      4\u001b[0m hamiltonian\n",
      "\u001b[0;31mTypeError\u001b[0m: hermitian_matrix_from_coefs() missing 1 required positional argument: 'dim'"
     ]
    }
   ],
   "source": [
    "from qoptcraft.basis import hermitian_matrix_from_coefs\n",
    "\n",
    "hamiltonian = hermitian_matrix_from_coefs(state_projection_coefs, 2)\n",
    "hamiltonian"
   ]
  },
  {
   "cell_type": "code",
   "execution_count": 6,
   "metadata": {},
   "outputs": [
    {
     "data": {
      "text/plain": [
       "array([[0.+1.j, 0.+0.j],\n",
       "       [0.+0.j, 0.+1.j]])"
      ]
     },
     "execution_count": 6,
     "metadata": {},
     "output_type": "execute_result"
    }
   ],
   "source": [
    "from qoptcraft.basis import hermitian_matrix_from_coefs\n",
    "\n",
    "hermitian_matrix_from_coefs(projection_coefs(Fock(1,1)), 2)\n"
   ]
  },
  {
   "cell_type": "code",
   "execution_count": 6,
   "metadata": {},
   "outputs": [
    {
     "data": {
      "text/plain": [
       "array([[0.+4.2j, 0.+0.j , 0.+0.j , 0.+0.j ],\n",
       "       [0.+0.j , 0.+4.4j, 0.+0.j , 0.+0.j ],\n",
       "       [0.+0.j , 0.+0.j , 0.+4.6j, 0.+0.j ],\n",
       "       [0.+0.j , 0.+0.j , 0.+0.j , 0.+4.8j]])"
      ]
     },
     "execution_count": 6,
     "metadata": {},
     "output_type": "execute_result"
    }
   ],
   "source": [
    "from qoptcraft.evolution import photon_hamiltonian\n",
    "\n",
    "photon_hamiltonian(hamiltonian, 3).round(5)"
   ]
  },
  {
   "cell_type": "code",
   "execution_count": 9,
   "metadata": {},
   "outputs": [],
   "source": [
    "from qoptcraft.optical_elements import beam_splitter\n",
    "from qoptcraft.operators import haar_random_unitary\n",
    "\n",
    "# S = beam_splitter(np.pi/4,0,2,0,1)\n",
    "modes = 3\n",
    "photons = 2\n",
    "S = haar_random_unitary(modes)\n",
    "U = photon_unitary(S, photons)"
   ]
  },
  {
   "cell_type": "code",
   "execution_count": 10,
   "metadata": {},
   "outputs": [],
   "source": [
    "from qoptcraft.basis import unitary_algebra_basis\n",
    "\n",
    "def matrix_C(S):\n",
    "    modes = S.shape[0]\n",
    "    basis = unitary_algebra_basis(modes)\n",
    "    C = np.zeros((modes**2, modes**2), dtype=np.complex128)\n",
    "    for i in range(modes**2):\n",
    "        for j in range(modes**2):\n",
    "            C[i,j] = hs_inner_product(S @ basis[i] @ S.conj().T, basis[j])\n",
    "    return C"
   ]
  },
  {
   "cell_type": "code",
   "execution_count": 11,
   "metadata": {},
   "outputs": [],
   "source": [
    "from qoptcraft.basis.algebra import sym_matrix, antisym_matrix\n",
    "\n",
    "def scattering_from_coefs(coef_matrix):\n",
    "    \"\"\"Retrieve the linear optical scattering matrix from a unitary using Theorem 2\n",
    "    of PRA 100, 022301 (2019).\n",
    "\n",
    "    Args:\n",
    "        unitary (NDArray): unitary matrix.\n",
    "        modes (int): number of modes in the optical system.\n",
    "        photons (int): number of photons.\n",
    "\n",
    "    Returns:\n",
    "        NDArray: optical scattering matrix that maps to the given unitary.\n",
    "    \"\"\"\n",
    "\n",
    "    basis = unitary_algebra_basis(modes)\n",
    "\n",
    "    basis_array = np.array(basis)\n",
    "\n",
    "    def adjoint(basis_matrix):\n",
    "        for i in range(len(basis)):\n",
    "            if (basis_matrix == basis[i]).all():\n",
    "                index = i\n",
    "                break\n",
    "        return np.einsum(\"k,kij->ij\", coef_matrix[index, :], basis_array)\n",
    "\n",
    "    def get_nonzero_element():\n",
    "        for j in range(modes):\n",
    "            basis_matrix = sym_matrix(j, j, modes)\n",
    "            for l in range(modes):\n",
    "                exp_val = adjoint(basis_matrix)[l,l]\n",
    "                if not np.isclose(exp_val, 0, rtol=1e-5, atol=1e-8):\n",
    "                    j0, l0 = j, l\n",
    "                    coef = np.sqrt(-1j * exp_val)\n",
    "                    return j0, l0, coef\n",
    "        raise ValueError(\"Nonzero element not found.\")\n",
    "\n",
    "    j0, l0, coef = get_nonzero_element()\n",
    "    scattering = np.zeros((modes, modes), dtype=np.complex128)\n",
    "    for l in range(modes):\n",
    "        for j in range(modes):\n",
    "            sym_term = adjoint(sym_matrix(j, j0, modes))[l,l0]\n",
    "            if j != j0:\n",
    "                antisym_term = adjoint(antisym_matrix(j, j0, modes))[l, l0]\n",
    "                # ! The factor np.sqrt(2) / 2 is to transform the basis into the one in the paper\n",
    "                scattering[l, j] = (antisym_term - 1j * sym_term) / coef * np.sqrt(2) / 2\n",
    "            else:\n",
    "                scattering[l, j] = - 1j * sym_term / coef\n",
    "    return scattering"
   ]
  },
  {
   "cell_type": "code",
   "execution_count": 12,
   "metadata": {},
   "outputs": [],
   "source": [
    "def hausholder_reflection(vector_1, vector_2):\n",
    "    u = vector_1 - vector_2\n",
    "    u = u / np.linalg.norm(u)\n",
    "    return np.eye(u.size) - 2 * np.outer(u, u.conj())"
   ]
  },
  {
   "cell_type": "code",
   "execution_count": 13,
   "metadata": {},
   "outputs": [],
   "source": [
    "from qoptcraft.operators import haar_random_unitary\n",
    "from qoptcraft.state import Fock\n",
    "\n",
    "modes = 3\n",
    "photons = 2\n",
    "S = haar_random_unitary(modes)\n",
    "U = photon_unitary(S, photons)\n",
    "\n",
    "in_state = Fock(1,1,0) + 0.5 * Fock(2,0,0)\n",
    "out_state = in_state.evolution(U)\n",
    "in_state_coefs = projection_coefs(in_state)\n",
    "out_state_coefs = projection_coefs(out_state)\n",
    "\n",
    "# C = matrix_C(S)\n",
    "C = hausholder_reflection(in_state_coefs, out_state_coefs)\n",
    "\n",
    "for n in range(modes**2):\n",
    "    sum = 0\n",
    "    for i in range(modes**2):\n",
    "        sum += in_state_coefs[i] * C[i, n]\n",
    "    np.testing.assert_almost_equal(sum, out_state_coefs[n],decimal=6)"
   ]
  },
  {
   "cell_type": "code",
   "execution_count": 17,
   "metadata": {},
   "outputs": [
    {
     "data": {
      "text/plain": [
       "array([[ 0.        -0.06536325j,  0.03093206-0.04902244j,\n",
       "        -0.04147333+0.13145709j, -0.09775133+0.01833699j,\n",
       "        -0.04469376-0.03372515j, -0.01991763-0.07654694j],\n",
       "       [-0.03093206-0.04902244j,  0.        +0.06536325j,\n",
       "        -0.08294667+0.26291418j, -0.19550267+0.03667398j,\n",
       "        -0.08938753-0.06745029j, -0.03983526-0.15309387j],\n",
       "       [ 0.04147333+0.13145709j,  0.08294667+0.26291418j,\n",
       "         0.        +0.j        ,  0.        +0.j        ,\n",
       "         0.        +0.j        ,  0.        +0.j        ],\n",
       "       [ 0.09775133+0.01833699j,  0.19550267+0.03667398j,\n",
       "         0.        +0.j        ,  0.        +0.j        ,\n",
       "         0.        +0.j        ,  0.        +0.j        ],\n",
       "       [ 0.04469376-0.03372514j,  0.08938753-0.06745028j,\n",
       "         0.        +0.j        ,  0.        +0.j        ,\n",
       "         0.        +0.j        ,  0.        +0.j        ],\n",
       "       [ 0.01991763-0.07654694j,  0.03983526-0.15309387j,\n",
       "         0.        +0.j        ,  0.        +0.j        ,\n",
       "         0.        +0.j        ,  0.        +0.j        ]],\n",
       "      dtype=complex64)"
      ]
     },
     "execution_count": 17,
     "metadata": {},
     "output_type": "execute_result"
    }
   ],
   "source": [
    "from qoptcraft.math import commutator\n",
    "\n",
    "commutator(in_state.density_matrix, out_state.density_matrix)"
   ]
  },
  {
   "cell_type": "code",
   "execution_count": 14,
   "metadata": {},
   "outputs": [],
   "source": [
    "S_rebuilt = scattering_from_coefs(hausholder_reflection(in_state_coefs, out_state_coefs))"
   ]
  },
  {
   "cell_type": "code",
   "execution_count": 15,
   "metadata": {},
   "outputs": [
    {
     "data": {
      "text/plain": [
       "array([[-0.3639 +1.84708j,  0.1095 +2.01887j,  0.08846+1.09486j],\n",
       "       [ 0.14782+0.40781j,  0.3639 +0.9043j ,  0.17796+0.38988j],\n",
       "       [ 0.33042-0.99852j, -0.00949-1.5157j , -0.     -0.75138j]])"
      ]
     },
     "execution_count": 15,
     "metadata": {},
     "output_type": "execute_result"
    }
   ],
   "source": [
    "from qoptcraft.basis import hermitian_matrix_from_coefs\n",
    "\n",
    "in_matrix = hermitian_matrix_from_coefs(in_state_coefs, 3)\n",
    "\n",
    "(S_rebuilt @ in_matrix @ np.linalg.inv(S_rebuilt)).round(5)"
   ]
  },
  {
   "cell_type": "code",
   "execution_count": null,
   "metadata": {},
   "outputs": [
    {
     "data": {
      "text/plain": [
       "array([[-0.     +1.28517j, -0.47647+0.22957j, -0.10868-0.04555j],\n",
       "       [ 0.47647+0.22957j, -0.     +0.61675j, -0.21066-0.0344j ],\n",
       "       [ 0.10868-0.04555j,  0.21066-0.0344j ,  0.     +0.09808j]])"
      ]
     },
     "execution_count": 24,
     "metadata": {},
     "output_type": "execute_result"
    }
   ],
   "source": [
    "from qoptcraft.basis import hermitian_matrix_from_coefs\n",
    "\n",
    "in_matrix = hermitian_matrix_from_coefs(in_state_coefs, 3)\n",
    "\n",
    "(S @ in_matrix @ S.conj().T).round(5)"
   ]
  },
  {
   "cell_type": "code",
   "execution_count": null,
   "metadata": {},
   "outputs": [
    {
     "data": {
      "text/plain": [
       "array([[-0.     +1.28517j, -0.47647+0.22957j, -0.10868-0.04555j],\n",
       "       [ 0.47647+0.22957j, -0.     +0.61675j, -0.21066-0.0344j ],\n",
       "       [ 0.10868-0.04555j,  0.21066-0.0344j ,  0.     +0.09808j]])"
      ]
     },
     "execution_count": 23,
     "metadata": {},
     "output_type": "execute_result"
    }
   ],
   "source": [
    "out_matrix = hermitian_matrix_from_coefs(out_state_coefs, 3)\n",
    "out_matrix.round(5)"
   ]
  },
  {
   "cell_type": "code",
   "execution_count": null,
   "metadata": {},
   "outputs": [
    {
     "data": {
      "text/plain": [
       "array([ 1.2851687 -1.19486831e-09j,  0.61674871+9.13615476e-09j,\n",
       "        0.32466044-7.34385230e-09j,  0.67382778-1.09463961e-08j,\n",
       "        0.09808266-1.98645560e-09j, -0.06441291-1.38547578e-08j,\n",
       "        0.1536916 -2.49673465e-09j, -0.04865424-7.52672062e-10j,\n",
       "        0.29791989-4.83973691e-09j])"
      ]
     },
     "execution_count": 16,
     "metadata": {},
     "output_type": "execute_result"
    }
   ],
   "source": [
    "C @ in_state_coefs"
   ]
  },
  {
   "cell_type": "code",
   "execution_count": null,
   "metadata": {},
   "outputs": [
    {
     "data": {
      "text/plain": [
       "array([ 1.28516876+1.88706606e-10j,  0.61674859+6.15922491e-09j,\n",
       "        0.32466014-1.50657973e-08j,  0.67382821+6.93889390e-18j,\n",
       "        0.09808272-3.93093780e-10j, -0.06441295-1.49011612e-08j,\n",
       "        0.1536917 +0.00000000e+00j, -0.04865427-1.54306576e-09j,\n",
       "        0.29792008+0.00000000e+00j])"
      ]
     },
     "execution_count": 17,
     "metadata": {},
     "output_type": "execute_result"
    }
   ],
   "source": [
    "out_state_coefs"
   ]
  },
  {
   "cell_type": "code",
   "execution_count": null,
   "metadata": {},
   "outputs": [
    {
     "data": {
      "text/plain": [
       "array([[ 0.81833326-0.j        , -0.0579191 +0.30102655j,\n",
       "         0.48600339+0.01264025j],\n",
       "       [ 0.23840485-0.15064009j, -0.62965368+0.28955436j,\n",
       "        -0.65272217-0.11882329j],\n",
       "       [ 0.36175647+0.34631434j,  0.65230479+0.01487849j,\n",
       "        -0.53562963-0.19125016j]])"
      ]
     },
     "execution_count": 8,
     "metadata": {},
     "output_type": "execute_result"
    }
   ],
   "source": [
    "S * np.abs(S[0,0]) / S[0,0]"
   ]
  },
  {
   "cell_type": "code",
   "execution_count": null,
   "metadata": {},
   "outputs": [
    {
     "data": {
      "text/plain": [
       "array([[ 1.00000000e+00+2.62788462e-17j,  5.57495597e-18-7.12284114e-17j,\n",
       "         8.66745244e-17-2.80812974e-16j],\n",
       "       [ 5.57495597e-18+7.57169719e-17j,  1.00000000e+00-9.42436072e-18j,\n",
       "        -2.40882842e-16+1.41950187e-16j],\n",
       "       [ 8.66745244e-17+2.89529009e-16j, -2.40882842e-16-1.25181106e-16j,\n",
       "         1.00000000e+00-8.84105723e-18j]])"
      ]
     },
     "execution_count": 9,
     "metadata": {},
     "output_type": "execute_result"
    }
   ],
   "source": [
    "S @ S.T.conj()"
   ]
  },
  {
   "cell_type": "code",
   "execution_count": null,
   "metadata": {},
   "outputs": [
    {
     "data": {
      "text/plain": [
       "array([[ 0.96070197-2.84311488e-19j, -0.21082828-3.35247223e-02j,\n",
       "         0.25622983-4.39501062e-02j],\n",
       "       [-0.21082828+3.35247223e-02j,  0.78087491+1.23966771e-18j,\n",
       "         0.37076503-1.25989214e-01j],\n",
       "       [ 0.25622983+4.39501062e-02j,  0.37076503+1.25989214e-01j,\n",
       "         0.62555514-1.23966771e-18j]])"
      ]
     },
     "execution_count": 10,
     "metadata": {},
     "output_type": "execute_result"
    }
   ],
   "source": [
    "# S_rebuilt = scattering_from_coefs(matrix_C(S))\n",
    "S_rebuilt = scattering_from_coefs(hausholder_reflection(in_state_coefs, out_state_coefs))\n",
    "S_rebuilt @ S_rebuilt.conj().T"
   ]
  },
  {
   "cell_type": "code",
   "execution_count": null,
   "metadata": {},
   "outputs": [
    {
     "data": {
      "text/plain": [
       "array([[ 0.96070197-2.84311488e-19j, -0.21082828-3.35247223e-02j,\n",
       "         0.25622983-4.39501062e-02j],\n",
       "       [-0.21082828+3.35247223e-02j,  0.78087491+1.23966771e-18j,\n",
       "         0.37076503-1.25989214e-01j],\n",
       "       [ 0.25622983+4.39501062e-02j,  0.37076503+1.25989214e-01j,\n",
       "         0.62555514-1.23966771e-18j]])"
      ]
     },
     "execution_count": 11,
     "metadata": {},
     "output_type": "execute_result"
    }
   ],
   "source": [
    "S_rebuilt @ S_rebuilt.conj().T"
   ]
  },
  {
   "cell_type": "code",
   "execution_count": null,
   "metadata": {},
   "outputs": [
    {
     "data": {
      "text/plain": [
       "0.35-0.19j * (2, 0, 0) + \n",
       "0.15+0.34j * (1, 1, 0) + \n",
       "0.36-0.50j * (1, 0, 1) + \n",
       "0.15+0.15j * (0, 2, 0) + \n",
       "-0.18+0.04j * (0, 1, 1) + \n",
       "0.45-0.23j * (0, 0, 2)"
      ]
     },
     "execution_count": 12,
     "metadata": {},
     "output_type": "execute_result"
    }
   ],
   "source": [
    "U_rebuilt = photon_unitary(S_rebuilt, photons)\n",
    "out_state_rebuilt = in_state.evolution(U)\n",
    "out_state_rebuilt"
   ]
  },
  {
   "cell_type": "code",
   "execution_count": null,
   "metadata": {},
   "outputs": [
    {
     "data": {
      "text/plain": [
       "0.35-0.19j * (2, 0, 0) + \n",
       "0.15+0.34j * (1, 1, 0) + \n",
       "0.36-0.50j * (1, 0, 1) + \n",
       "0.15+0.15j * (0, 2, 0) + \n",
       "-0.18+0.04j * (0, 1, 1) + \n",
       "0.45-0.23j * (0, 0, 2)"
      ]
     },
     "execution_count": 13,
     "metadata": {},
     "output_type": "execute_result"
    }
   ],
   "source": [
    "out_state"
   ]
  },
  {
   "cell_type": "code",
   "execution_count": null,
   "metadata": {},
   "outputs": [],
   "source": [
    "from qoptcraft.basis import hilbert_dim\n",
    "\n",
    "def projection_coefs_matrix(hermitian_matrix, modes, photons, orthonormal = False):\n",
    "    if orthonormal:\n",
    "        basis_image = image_algebra_basis_orthonormal(modes, photons)\n",
    "    else:\n",
    "        basis_image = image_algebra_basis(modes, photons)\n",
    "    coefs = []\n",
    "    matrix = 1j * hermitian_matrix\n",
    "    for basis_matrix in basis_image:\n",
    "        coefs.append(hs_inner_product(basis_matrix, matrix))\n",
    "    return np.array(coefs)\n",
    "\n",
    "def inverse_algebra_hm(tangent_state, modes, photons, orthonormal = False):\n",
    "\n",
    "    coefs = projection_coefs_matrix(tangent_state, modes, photons, orthonormal)\n",
    "    inverse_tangent_state = np.zeros((modes, modes), dtype=np.complex128)\n",
    "    original_tangent_matrix = np.zeros_like(tangent_state, dtype=np.complex128)\n",
    "\n",
    "    for image_matrix, unitary_matrix, coef in zip(image_algebra_basis(modes, photons), unitary_algebra_basis(modes), coefs):\n",
    "        inverse_tangent_state += coef * unitary_matrix\n",
    "        original_tangent_matrix += coef * image_matrix\n",
    "    return inverse_tangent_state, original_tangent_matrix"
   ]
  },
  {
   "cell_type": "code",
   "execution_count": null,
   "metadata": {},
   "outputs": [],
   "source": [
    "from qoptcraft.invariant import projection_density\n",
    "import scipy as sp\n",
    "\n",
    "orthonormal = True\n",
    "\n",
    "in_state_tangent = projection_density(in_state, orthonormal=orthonormal)\n",
    "out_state_tangent = projection_density(out_state, orthonormal=orthonormal)\n"
   ]
  },
  {
   "cell_type": "code",
   "execution_count": null,
   "metadata": {},
   "outputs": [
    {
     "data": {
      "text/plain": [
       "matrix([[0.+0.37999998j, 0.+0.15999999j, 0.+0.j        , 0.+0.j        ,\n",
       "         0.+0.j        , 0.+0.j        ],\n",
       "        [0.+0.15999999j, 0.+0.29999998j, 0.+0.j        , 0.+0.15999999j,\n",
       "         0.+0.j        , 0.+0.j        ],\n",
       "        [0.+0.j        , 0.+0.j        , 0.+0.13999999j, 0.+0.j        ,\n",
       "         0.+0.11313708j, 0.+0.j        ],\n",
       "        [0.+0.j        , 0.+0.15999999j, 0.+0.j        , 0.+0.21999999j,\n",
       "         0.+0.j        , 0.+0.j        ],\n",
       "        [0.+0.j        , 0.+0.j        , 0.+0.11313708j, 0.+0.j        ,\n",
       "         0.+0.06j      , 0.+0.j        ],\n",
       "        [0.+0.j        , 0.+0.j        , 0.+0.j        , 0.+0.j        ,\n",
       "         0.+0.j        , 0.-0.09999999j]])"
      ]
     },
     "execution_count": 58,
     "metadata": {},
     "output_type": "execute_result"
    }
   ],
   "source": [
    "in_state_tangent"
   ]
  },
  {
   "cell_type": "code",
   "execution_count": null,
   "metadata": {},
   "outputs": [
    {
     "name": "stdout",
     "output_type": "stream",
     "text": [
      "hamiltonian = array([[-0.48989792+0.j, -0.2529822 +0.j,  0.        +0.j],\n",
      "       [-0.2529822 +0.j, -0.24842359+0.j,  0.        +0.j],\n",
      "       [ 0.        +0.j,  0.        +0.j,  0.11952285+0.j]])\n",
      "reconstructed_tangent.round(5) = matrix([[-0.9798 +0.j, -0.35777+0.j,  0.     +0.j,  0.     +0.j,\n",
      "          0.     +0.j,  0.     +0.j],\n",
      "        [-0.35777+0.j, -0.73832+0.j,  0.     +0.j, -0.35777+0.j,\n",
      "          0.     +0.j,  0.     +0.j],\n",
      "        [ 0.     +0.j,  0.     +0.j, -0.37038+0.j,  0.     +0.j,\n",
      "         -0.25298+0.j,  0.     +0.j],\n",
      "        [ 0.     +0.j, -0.35777+0.j,  0.     +0.j, -0.49685+0.j,\n",
      "          0.     +0.j,  0.     +0.j],\n",
      "        [ 0.     +0.j,  0.     +0.j, -0.25298+0.j,  0.     +0.j,\n",
      "         -0.1289 +0.j,  0.     +0.j],\n",
      "        [ 0.     +0.j,  0.     +0.j,  0.     +0.j,  0.     +0.j,\n",
      "          0.     +0.j,  0.23905+0.j]])\n"
     ]
    }
   ],
   "source": [
    "from qoptcraft.evolution import photon_hamiltonian\n",
    "\n",
    "hamiltonian, reconstructed_tangent = inverse_algebra_hm(in_state_tangent, modes, photons, orthonormal)\n",
    "print(f\"{hamiltonian = }\")\n",
    "print(f\"{reconstructed_tangent.round(5) = }\")"
   ]
  },
  {
   "cell_type": "code",
   "execution_count": null,
   "metadata": {},
   "outputs": [
    {
     "data": {
      "text/plain": [
       "array([[-0.9798 +0.j, -0.35777+0.j,  0.     +0.j,  0.     +0.j,\n",
       "         0.     +0.j,  0.     +0.j],\n",
       "       [-0.35777+0.j, -0.73832+0.j,  0.     +0.j, -0.35777+0.j,\n",
       "         0.     +0.j,  0.     +0.j],\n",
       "       [ 0.     +0.j,  0.     +0.j, -0.37038+0.j,  0.     +0.j,\n",
       "        -0.25298+0.j,  0.     +0.j],\n",
       "       [ 0.     +0.j, -0.35777+0.j,  0.     +0.j, -0.49685+0.j,\n",
       "         0.     +0.j,  0.     +0.j],\n",
       "       [ 0.     +0.j,  0.     +0.j, -0.25298+0.j,  0.     +0.j,\n",
       "        -0.1289 +0.j,  0.     +0.j],\n",
       "       [ 0.     +0.j,  0.     +0.j,  0.     +0.j,  0.     +0.j,\n",
       "         0.     +0.j,  0.23905+0.j]])"
      ]
     },
     "execution_count": 60,
     "metadata": {},
     "output_type": "execute_result"
    }
   ],
   "source": [
    "photon_hamiltonian(hamiltonian, photons).round(5)"
   ]
  },
  {
   "cell_type": "code",
   "execution_count": null,
   "metadata": {},
   "outputs": [
    {
     "data": {
      "text/plain": [
       "matrix([[0.+2.4j    , 0.+0.8j    , 0.+0.j     , 0.+0.j     , 0.+0.j     ,\n",
       "         0.+0.j     ],\n",
       "        [0.+0.8j    , 0.+2.j     , 0.+0.j     , 0.+0.8j    , 0.+0.j     ,\n",
       "         0.+0.j     ],\n",
       "        [0.+0.j     , 0.+0.j     , 0.+1.2j    , 0.+0.j     , 0.+0.56569j,\n",
       "         0.+0.j     ],\n",
       "        [0.+0.j     , 0.+0.8j    , 0.+0.j     , 0.+1.6j    , 0.+0.j     ,\n",
       "         0.+0.j     ],\n",
       "        [0.+0.j     , 0.+0.j     , 0.+0.56569j, 0.+0.j     , 0.+0.8j    ,\n",
       "         0.+0.j     ],\n",
       "        [0.+0.j     , 0.+0.j     , 0.+0.j     , 0.+0.j     , 0.+0.j     ,\n",
       "         0.+0.j     ]])"
      ]
     },
     "execution_count": 53,
     "metadata": {},
     "output_type": "execute_result"
    }
   ],
   "source": [
    "in_state_tangent.round(5)"
   ]
  },
  {
   "cell_type": "code",
   "execution_count": null,
   "metadata": {},
   "outputs": [
    {
     "data": {
      "text/plain": [
       "array([1.19999993, 0.79999995, 0.79999995, 0.        , 0.        ,\n",
       "       0.        , 0.        , 0.        , 0.        ])"
      ]
     },
     "execution_count": 197,
     "metadata": {},
     "output_type": "execute_result"
    }
   ],
   "source": [
    "in_state_coefs.real"
   ]
  },
  {
   "cell_type": "code",
   "execution_count": null,
   "metadata": {},
   "outputs": [
    {
     "data": {
      "text/plain": [
       "array([ 0.38999393,  1.43735607, -0.20162702,  0.13328514,  0.17265005,\n",
       "        0.24856562,  0.09166545, -0.45446801, -0.37007744])"
      ]
     },
     "execution_count": 195,
     "metadata": {},
     "output_type": "execute_result"
    }
   ],
   "source": [
    "out_state_coefs.real"
   ]
  },
  {
   "cell_type": "code",
   "execution_count": null,
   "metadata": {},
   "outputs": [
    {
     "data": {
      "text/plain": [
       "(-0.32923622223401566+1.0335488277069376e-09j)"
      ]
     },
     "execution_count": 192,
     "metadata": {},
     "output_type": "execute_result"
    }
   ],
   "source": [
    "np.arctan((out_state_coefs[0] - in_state_coefs[1]) / in_state_coefs[0])"
   ]
  },
  {
   "cell_type": "code",
   "execution_count": null,
   "metadata": {},
   "outputs": [],
   "source": [
    "in_state = Fock(1,1)\n",
    "in_state_coefs = projection_coefs(in_state)\n",
    "out_state = Fock(2,0) + Fock(0,2)\n",
    "out_state_coefs = projection_coefs(out_state)\n",
    "\n",
    "modes = 2\n",
    "\n",
    "for n in range(modes**2):\n",
    "    sum = 0\n",
    "    for i in range(modes**2):\n",
    "        sum += in_state_coefs[i] * C[i, n]\n",
    "    np.testing.assert_almost_equal(sum, out_state_coefs[n])"
   ]
  },
  {
   "cell_type": "code",
   "execution_count": null,
   "metadata": {},
   "outputs": [],
   "source": [
    "from numpy.typing import NDArray\n",
    "from qoptcraft.basis import image_algebra_basis\n",
    "from qoptcraft.operators import adjoint_evol\n",
    "import sympy\n",
    "\n",
    "\n",
    "class InconsistentEquations(ValueError):\n",
    "    def __init__(self, rank, expected_rank: float) -> None:\n",
    "        message = f\"The system has rank {rank} but should be {expected_rank}.\"\n",
    "        super().__init__(message)\n",
    "\n",
    "\n",
    "def equation_matrix_state(state):\n",
    "    coefs = projection_coefs(state)\n",
    "    return equation_matrix(coefs, state.modes, state.photons)\n",
    "\n",
    "\n",
    "def equation_matrix(coefs, modes: int, photons: int) -> NDArray:\n",
    "    \"\"\"Matrix of the system of equations.\n",
    "\n",
    "    Args:\n",
    "        modes (int): number of modes in the optical system.\n",
    "        basis_image (BasisAlgebra): basis of the image algebra.\n",
    "\n",
    "    Returns:\n",
    "        NDArray: matrix of the system of equations.\n",
    "    \"\"\"\n",
    "    basis_image = image_algebra_basis(modes, photons)\n",
    "    dim = basis_image[0].shape[0]\n",
    "    eq_matrix = np.empty((dim**2, modes**2), dtype=np.complex128)\n",
    "    for k in range(dim):\n",
    "        for l in range(dim):\n",
    "            for i in range(modes):\n",
    "                for j in range(modes):\n",
    "                    eq_matrix[dim * k + l, i * modes + j] = basis_image[i][k, l] * coefs[j]\n",
    "    return eq_matrix\n",
    "\n",
    "def check_consistency(equation_matrix, indep_term):\n",
    "    eq_matrix_sym = sympy.Matrix(equation_matrix).T\n",
    "    reduced_matrix, pivots = eq_matrix_sym.rref()  # reduced row echelon form\n",
    "    if len(pivots) > equation_matrix.shape[1]:\n",
    "        raise InconsistentEquations(len(pivots), equation_matrix.shape[1])\n",
    "    return pivots"
   ]
  },
  {
   "cell_type": "code",
   "execution_count": null,
   "metadata": {},
   "outputs": [],
   "source": [
    "def check_consistency(equation_matrix, indep_term):\n",
    "    augmented_matrix = np.c_[equation_matrix, indep_term.reshape(-1,1)]\n",
    "    return np.linalg.matrix_rank(equation_matrix) == np.linalg.matrix_rank(augmented_matrix)"
   ]
  },
  {
   "cell_type": "code",
   "execution_count": null,
   "metadata": {},
   "outputs": [
    {
     "data": {
      "text/plain": [
       "True"
      ]
     },
     "execution_count": 107,
     "metadata": {},
     "output_type": "execute_result"
    }
   ],
   "source": [
    "from qoptcraft.invariant import projection_density\n",
    "\n",
    "in_state = Fock(1,1)\n",
    "out_state = Fock(2,0) + Fock(0,2)\n",
    "\n",
    "eq_matrix = equation_matrix_state(in_state)\n",
    "indep_term = np.array(projection_density(out_state, orthonormal=True)).flatten().reshape(-1)\n",
    "check_consistency(eq_matrix, indep_term)"
   ]
  },
  {
   "cell_type": "code",
   "execution_count": null,
   "metadata": {},
   "outputs": [],
   "source": [
    "tangent_in = projection_density(in_state, subspace='complement', orthonormal=True)\n",
    "tangent_out = projection_density(out_state, subspace='complement', orthonormal=True)"
   ]
  },
  {
   "cell_type": "code",
   "execution_count": null,
   "metadata": {},
   "outputs": [
    {
     "data": {
      "text/plain": [
       "matrix([[0.-0.33333333j, 0.+0.j        , 0.+0.j        ],\n",
       "        [0.+0.j        , 0.+0.66666667j, 0.+0.j        ],\n",
       "        [0.+0.j        , 0.+0.j        , 0.-0.33333333j]])"
      ]
     },
     "execution_count": 134,
     "metadata": {},
     "output_type": "execute_result"
    }
   ],
   "source": [
    "tangent_in"
   ]
  },
  {
   "cell_type": "code",
   "execution_count": null,
   "metadata": {},
   "outputs": [
    {
     "data": {
      "text/plain": [
       "matrix([[0.+0.16666666j, 0.+0.j        , 0.+0.49999997j],\n",
       "        [0.+0.j        , 0.-0.33333331j, 0.+0.j        ],\n",
       "        [0.+0.49999997j, 0.+0.j        , 0.+0.16666666j]])"
      ]
     },
     "execution_count": 135,
     "metadata": {},
     "output_type": "execute_result"
    }
   ],
   "source": [
    "tangent_out"
   ]
  },
  {
   "cell_type": "code",
   "execution_count": null,
   "metadata": {},
   "outputs": [
    {
     "data": {
      "text/plain": [
       "array([[0.+0.89442719j, 0.+0.73029674j, 0.+0.j        , 0.+0.j        ],\n",
       "       [0.+0.j        , 0.+0.j        , 0.+0.j        , 0.+0.j        ],\n",
       "       [0.+0.j        , 0.+0.j        , 0.+0.j        , 0.+0.j        ],\n",
       "       [0.+0.j        , 0.+0.j        , 0.+0.j        , 0.+0.j        ],\n",
       "       [0.+0.4472136j , 0.+0.36514837j, 0.+0.4472136j , 0.+0.36514837j],\n",
       "       [0.+0.j        , 0.+0.j        , 0.+0.j        , 0.+0.j        ],\n",
       "       [0.+0.j        , 0.+0.j        , 0.+0.j        , 0.+0.j        ],\n",
       "       [0.+0.j        , 0.+0.j        , 0.+0.j        , 0.+0.j        ],\n",
       "       [0.+0.j        , 0.+0.j        , 0.+0.89442719j, 0.+0.73029674j]])"
      ]
     },
     "execution_count": 136,
     "metadata": {},
     "output_type": "execute_result"
    }
   ],
   "source": [
    "eq_matrix"
   ]
  },
  {
   "cell_type": "code",
   "execution_count": null,
   "metadata": {},
   "outputs": [
    {
     "data": {
      "text/plain": [
       "array([0.+0.33333331j, 0.+0.j        , 0.+0.j        , 0.+0.j        ,\n",
       "       0.+0.33333331j, 0.+0.j        , 0.+0.j        , 0.+0.j        ,\n",
       "       0.+0.33333331j])"
      ]
     },
     "execution_count": 108,
     "metadata": {},
     "output_type": "execute_result"
    }
   ],
   "source": [
    "indep_term"
   ]
  },
  {
   "cell_type": "code",
   "execution_count": null,
   "metadata": {},
   "outputs": [],
   "source": [
    "def solution_coefs(eq_matrix, indep_term) -> NDArray:\n",
    "    eq_matrix_sym = sympy.Matrix(eq_matrix)\n",
    "    reduced_matrix, pivots = eq_matrix_sym.rref()  # reduced row echelon form\n",
    "    print(eq_matrix[pivots, :])\n",
    "    print(indep_term[pivots, ...])\n",
    "    return np.linalg.solve(eq_matrix[pivots, :], indep_term[pivots, ...])"
   ]
  },
  {
   "cell_type": "code",
   "execution_count": null,
   "metadata": {},
   "outputs": [
    {
     "name": "stdout",
     "output_type": "stream",
     "text": [
      "[[0.+0.89442719j 0.+0.73029674j 0.+0.j         0.+0.j        ]\n",
      " [0.+0.j         0.+0.j         0.+0.j         0.+0.j        ]]\n",
      "[0.+0.33333331j 0.+0.j        ]\n"
     ]
    },
    {
     "ename": "LinAlgError",
     "evalue": "Last 2 dimensions of the array must be square",
     "output_type": "error",
     "traceback": [
      "\u001b[0;31m---------------------------------------------------------------------------\u001b[0m",
      "\u001b[0;31mLinAlgError\u001b[0m                               Traceback (most recent call last)",
      "Cell \u001b[0;32mIn[127], line 1\u001b[0m\n\u001b[0;32m----> 1\u001b[0m \u001b[43msolution_coefs\u001b[49m\u001b[43m(\u001b[49m\u001b[43meq_matrix\u001b[49m\u001b[43m,\u001b[49m\u001b[43m \u001b[49m\u001b[43mindep_term\u001b[49m\u001b[43m)\u001b[49m\n",
      "Cell \u001b[0;32mIn[126], line 6\u001b[0m, in \u001b[0;36msolution_coefs\u001b[0;34m(eq_matrix, indep_term)\u001b[0m\n\u001b[1;32m      4\u001b[0m \u001b[38;5;28mprint\u001b[39m(eq_matrix[pivots, :])\n\u001b[1;32m      5\u001b[0m \u001b[38;5;28mprint\u001b[39m(indep_term[pivots, \u001b[38;5;241m.\u001b[39m\u001b[38;5;241m.\u001b[39m\u001b[38;5;241m.\u001b[39m])\n\u001b[0;32m----> 6\u001b[0m \u001b[38;5;28;01mreturn\u001b[39;00m \u001b[43mnp\u001b[49m\u001b[38;5;241;43m.\u001b[39;49m\u001b[43mlinalg\u001b[49m\u001b[38;5;241;43m.\u001b[39;49m\u001b[43msolve\u001b[49m\u001b[43m(\u001b[49m\u001b[43meq_matrix\u001b[49m\u001b[43m[\u001b[49m\u001b[43mpivots\u001b[49m\u001b[43m,\u001b[49m\u001b[43m \u001b[49m\u001b[43m:\u001b[49m\u001b[43m]\u001b[49m\u001b[43m,\u001b[49m\u001b[43m \u001b[49m\u001b[43mindep_term\u001b[49m\u001b[43m[\u001b[49m\u001b[43mpivots\u001b[49m\u001b[43m,\u001b[49m\u001b[43m \u001b[49m\u001b[38;5;241;43m.\u001b[39;49m\u001b[38;5;241;43m.\u001b[39;49m\u001b[38;5;241;43m.\u001b[39;49m\u001b[43m]\u001b[49m\u001b[43m)\u001b[49m\n",
      "File \u001b[0;32m~/miniconda3/envs/qoptics/lib/python3.11/site-packages/numpy/linalg/linalg.py:396\u001b[0m, in \u001b[0;36msolve\u001b[0;34m(a, b)\u001b[0m\n\u001b[1;32m    394\u001b[0m a, _ \u001b[38;5;241m=\u001b[39m _makearray(a)\n\u001b[1;32m    395\u001b[0m _assert_stacked_2d(a)\n\u001b[0;32m--> 396\u001b[0m \u001b[43m_assert_stacked_square\u001b[49m\u001b[43m(\u001b[49m\u001b[43ma\u001b[49m\u001b[43m)\u001b[49m\n\u001b[1;32m    397\u001b[0m b, wrap \u001b[38;5;241m=\u001b[39m _makearray(b)\n\u001b[1;32m    398\u001b[0m t, result_t \u001b[38;5;241m=\u001b[39m _commonType(a, b)\n",
      "File \u001b[0;32m~/miniconda3/envs/qoptics/lib/python3.11/site-packages/numpy/linalg/linalg.py:213\u001b[0m, in \u001b[0;36m_assert_stacked_square\u001b[0;34m(*arrays)\u001b[0m\n\u001b[1;32m    211\u001b[0m m, n \u001b[38;5;241m=\u001b[39m a\u001b[38;5;241m.\u001b[39mshape[\u001b[38;5;241m-\u001b[39m\u001b[38;5;241m2\u001b[39m:]\n\u001b[1;32m    212\u001b[0m \u001b[38;5;28;01mif\u001b[39;00m m \u001b[38;5;241m!=\u001b[39m n:\n\u001b[0;32m--> 213\u001b[0m     \u001b[38;5;28;01mraise\u001b[39;00m LinAlgError(\u001b[38;5;124m'\u001b[39m\u001b[38;5;124mLast 2 dimensions of the array must be square\u001b[39m\u001b[38;5;124m'\u001b[39m)\n",
      "\u001b[0;31mLinAlgError\u001b[0m: Last 2 dimensions of the array must be square"
     ]
    }
   ],
   "source": [
    "solution_coefs(eq_matrix, indep_term)"
   ]
  },
  {
   "cell_type": "code",
   "execution_count": null,
   "metadata": {},
   "outputs": [],
   "source": [
    "indep_term[pivots, ...]"
   ]
  },
  {
   "cell_type": "code",
   "execution_count": null,
   "metadata": {},
   "outputs": [
    {
     "data": {
      "text/plain": [
       "(array([0.22360678-4.67711900e-34j, 0.18257417+2.36700330e-18j,\n",
       "        0.22360678-9.85191136e-18j, 0.18257417+2.31061409e-19j]),\n",
       " array([], dtype=float64),\n",
       " 2,\n",
       " array([1.41421356e+00, 1.15470054e+00, 1.00226983e-16, 1.19774135e-17]))"
      ]
     },
     "execution_count": 116,
     "metadata": {},
     "output_type": "execute_result"
    }
   ],
   "source": [
    "np.linalg.lstsq(eq_matrix, indep_term, rcond=None)"
   ]
  },
  {
   "cell_type": "code",
   "execution_count": null,
   "metadata": {},
   "outputs": [
    {
     "data": {
      "text/plain": [
       "array([0.22360678, 0.18257417, 0.22360678, 0.18257417])"
      ]
     },
     "execution_count": 118,
     "metadata": {},
     "output_type": "execute_result"
    }
   ],
   "source": [
    "solution = np.real(np.array([0.22360678-4.67711900e-34j, 0.18257417+2.36700330e-18j,\n",
    "        0.22360678-9.85191136e-18j, 0.18257417+2.31061409e-19j]))\n",
    "solution"
   ]
  },
  {
   "cell_type": "code",
   "execution_count": null,
   "metadata": {},
   "outputs": [],
   "source": [
    "def projection_from_coefs(state, coefs):\n",
    "    basis_image = image_algebra_basis_orthonormal(state.modes, state.photons)\n",
    "    projection = np.zeros_like(basis_image[0])\n",
    "    for i, basis_matrix in enumerate(basis_image):\n",
    "        projection += coefs[i] * basis_matrix\n",
    "    print(projection.toarray())\n",
    "    return projection"
   ]
  },
  {
   "cell_type": "code",
   "execution_count": null,
   "metadata": {},
   "outputs": [
    {
     "name": "stdout",
     "output_type": "stream",
     "text": [
      "[[0.+0.33333333j 0.+0.j         0.+0.j        ]\n",
      " [0.+0.j         0.+0.33333333j 0.+0.j        ]\n",
      " [0.+0.j         0.+0.j         0.+0.33333333j]]\n"
     ]
    },
    {
     "data": {
      "text/plain": [
       "<3x3 sparse matrix of type '<class 'numpy.complex128'>'\n",
       "\twith 3 stored elements in Compressed Sparse Row format>"
      ]
     },
     "execution_count": 15,
     "metadata": {},
     "output_type": "execute_result"
    }
   ],
   "source": [
    "from qoptcraft.state import Fock\n",
    "\n",
    "coefs = projection_coefs(Fock(1,1))\n",
    "projection_from_coefs(Fock(1,1), coefs)"
   ]
  },
  {
   "cell_type": "code",
   "execution_count": null,
   "metadata": {},
   "outputs": [
    {
     "ename": "SyntaxError",
     "evalue": "invalid syntax (1341024826.py, line 22)",
     "output_type": "error",
     "traceback": [
      "\u001b[0;36m  Cell \u001b[0;32mIn[20], line 22\u001b[0;36m\u001b[0m\n",
      "\u001b[0;31m    indep_term =  # ! coefs de\u001b[0m\n",
      "\u001b[0m                  ^\u001b[0m\n",
      "\u001b[0;31mSyntaxError\u001b[0m\u001b[0;31m:\u001b[0m invalid syntax\n"
     ]
    }
   ],
   "source": [
    "def solution_coefs(state_in, state_out) -> NDArray:\n",
    "    \"\"\"Coefficients that solve the system of equations that the unitary must satisfy.\n",
    "\n",
    "    Returns:\n",
    "        NDArray: matrix with the coefficients that solve the system.\n",
    "    \"\"\"\n",
    "    assert state_in.modes == state_out.modes\n",
    "    assert state_in.photons == state_out.photons\n",
    "\n",
    "    modes = state_in.modes\n",
    "    photons = state_in.photons\n",
    "    basis_image = image_algebra_basis(modes, photons)\n",
    "\n",
    "    sol_coefs = []\n",
    "    eq_matrix = equation_matrix(coefs, modes, basis_image)\n",
    "    eq_matrix_sym = sympy.Matrix(eq_matrix).T\n",
    "    reduced_matrix, pivots = eq_matrix_sym.rref()  # reduced row echelon form\n",
    "    if len(pivots) > modes**2:\n",
    "        raise InconsistentEquations(len(pivots), modes**2)\n",
    "    else:\n",
    "        # If linear independent equations\n",
    "        indep_term =  # ! coefs de \n",
    "        solution = np.linalg.solve(eq_matrix[pivots, :], indep_term[pivots, ...])\n",
    "        sol_coefs.append(solution)\n",
    "    return np.vstack(sol_coefs, dtype=np.complex128)  # array with sol_coefs elements as rows"
   ]
  },
  {
   "cell_type": "code",
   "execution_count": null,
   "metadata": {},
   "outputs": [
    {
     "name": "stdout",
     "output_type": "stream",
     "text": [
      "Bell invariant =  0.0999999880790714\n",
      "Fock invariant =  0.2666666666666666\n"
     ]
    }
   ],
   "source": [
    "from qoptcraft.state import Fock\n",
    "from qoptcraft.invariant import photon_invariant, spectral_invariant\n",
    "\n",
    "bell_dual_rail = Fock(1,0,1,0) + Fock(0,1,0,1)\n",
    "print(\"Bell invariant = \", photon_invariant(bell_dual_rail))\n",
    "print(\"Fock invariant = \", photon_invariant(Fock(1,1,0,0)))"
   ]
  },
  {
   "cell_type": "code",
   "execution_count": null,
   "metadata": {},
   "outputs": [
    {
     "data": {
      "text/plain": [
       "array([2.99999982, 3.99999976, 4.9999997 , 5.99999964])"
      ]
     },
     "execution_count": 26,
     "metadata": {},
     "output_type": "execute_result"
    }
   ],
   "source": [
    "state = Fock(2,1) + Fock(0,3)\n",
    "spectral_invariant(state)"
   ]
  },
  {
   "cell_type": "code",
   "execution_count": null,
   "metadata": {},
   "outputs": [],
   "source": [
    "S = beam_splitter(angle=np.pi/4, shift=0, dim=2, mode_1=0, mode_2=1)\n",
    "U = photon_unitary(S, photons=2, method='permanent glynn')\n",
    "\n",
    "fock_density = Fock(1,1).density_matrix\n",
    "fock_density_1 = np.diag([-1,0,0])\n",
    "fock_density_2 = fock_density - fock_density_1\n"
   ]
  },
  {
   "cell_type": "code",
   "execution_count": null,
   "metadata": {},
   "outputs": [],
   "source": [
    "fock_density_1_evol = U @ fock_density_1 @ U.conj().T\n",
    "fock_density_2_evol = U @ fock_density_2 @ U.conj().T"
   ]
  },
  {
   "cell_type": "code",
   "execution_count": null,
   "metadata": {},
   "outputs": [
    {
     "ename": "NameError",
     "evalue": "name 'photon_invariant_basis' is not defined",
     "output_type": "error",
     "traceback": [
      "\u001b[0;31m---------------------------------------------------------------------------\u001b[0m",
      "\u001b[0;31mNameError\u001b[0m                                 Traceback (most recent call last)",
      "Cell \u001b[0;32mIn[29], line 1\u001b[0m\n\u001b[0;32m----> 1\u001b[0m \u001b[43mphoton_invariant_basis\u001b[49m(fock_density_2_evol,\u001b[38;5;241m2\u001b[39m,\u001b[38;5;241m2\u001b[39m)\n",
      "\u001b[0;31mNameError\u001b[0m: name 'photon_invariant_basis' is not defined"
     ]
    }
   ],
   "source": [
    "photon_invariant_basis(fock_density_2_evol,2,2)"
   ]
  },
  {
   "cell_type": "code",
   "execution_count": null,
   "metadata": {},
   "outputs": [
    {
     "ename": "NameError",
     "evalue": "name 'photon_invariant_basis' is not defined",
     "output_type": "error",
     "traceback": [
      "\u001b[0;31m---------------------------------------------------------------------------\u001b[0m",
      "\u001b[0;31mNameError\u001b[0m                                 Traceback (most recent call last)",
      "Cell \u001b[0;32mIn[30], line 1\u001b[0m\n\u001b[0;32m----> 1\u001b[0m \u001b[43mphoton_invariant_basis\u001b[49m(fock_density_2_evol,\u001b[38;5;241m2\u001b[39m,\u001b[38;5;241m2\u001b[39m)\n",
      "\u001b[0;31mNameError\u001b[0m: name 'photon_invariant_basis' is not defined"
     ]
    }
   ],
   "source": [
    "photon_invariant_basis(fock_density_2_evol,2,2)"
   ]
  },
  {
   "cell_type": "code",
   "execution_count": null,
   "metadata": {},
   "outputs": [
    {
     "ename": "NameError",
     "evalue": "name 'PureState' is not defined",
     "output_type": "error",
     "traceback": [
      "\u001b[0;31m---------------------------------------------------------------------------\u001b[0m",
      "\u001b[0;31mNameError\u001b[0m                                 Traceback (most recent call last)",
      "Cell \u001b[0;32mIn[5], line 1\u001b[0m\n\u001b[0;32m----> 1\u001b[0m Bell \u001b[38;5;241m=\u001b[39m \u001b[43mPureState\u001b[49m([[\u001b[38;5;241m1\u001b[39m,\u001b[38;5;241m0\u001b[39m,\u001b[38;5;241m1\u001b[39m,\u001b[38;5;241m0\u001b[39m,\u001b[38;5;241m1\u001b[39m,\u001b[38;5;241m1\u001b[39m],[\u001b[38;5;241m0\u001b[39m,\u001b[38;5;241m1\u001b[39m,\u001b[38;5;241m0\u001b[39m,\u001b[38;5;241m1\u001b[39m,\u001b[38;5;241m1\u001b[39m,\u001b[38;5;241m1\u001b[39m]],[\u001b[38;5;241m1\u001b[39m\u001b[38;5;241m/\u001b[39mnp\u001b[38;5;241m.\u001b[39msqrt(\u001b[38;5;241m2\u001b[39m), \u001b[38;5;241m1\u001b[39m\u001b[38;5;241m/\u001b[39mnp\u001b[38;5;241m.\u001b[39msqrt(\u001b[38;5;241m2\u001b[39m)])\n\u001b[1;32m      2\u001b[0m spectral_invariant(Bell, subspace\u001b[38;5;241m=\u001b[39m\u001b[38;5;124m'\u001b[39m\u001b[38;5;124mcomplement\u001b[39m\u001b[38;5;124m'\u001b[39m, orthonormal\u001b[38;5;241m=\u001b[39m\u001b[38;5;28;01mTrue\u001b[39;00m)\n",
      "\u001b[0;31mNameError\u001b[0m: name 'PureState' is not defined"
     ]
    }
   ],
   "source": [
    "Bell = PureState([[1,0,1,0,1,1],[0,1,0,1,1,1]],[1/np.sqrt(2), 1/np.sqrt(2)])\n",
    "spectral_invariant(Bell, subspace='complement', orthonormal=True)"
   ]
  },
  {
   "cell_type": "code",
   "execution_count": null,
   "metadata": {},
   "outputs": [
    {
     "data": {
      "text/plain": [
       "(16+0j)"
      ]
     },
     "execution_count": 8,
     "metadata": {},
     "output_type": "execute_result"
    }
   ],
   "source": [
    "scalar_invariant_from_matrix(Fock(4,0).density_matrix, 2, 4, 2)"
   ]
  },
  {
   "cell_type": "code",
   "execution_count": null,
   "metadata": {},
   "outputs": [
    {
     "data": {
      "text/plain": [
       "array([[ 0.47308167+0.j        , -0.83334361+0.28588838j],\n",
       "       [ 0.09860751+0.87548289j,  0.2026334 +0.42748797j]])"
      ]
     },
     "execution_count": 9,
     "metadata": {},
     "output_type": "execute_result"
    }
   ],
   "source": [
    "from qoptcraft import haar_random_unitary, photon_unitary, scattering_from_unitary\n",
    "\n",
    "modes = 2\n",
    "photons = 2\n",
    "S = haar_random_unitary(modes)\n",
    "S * np.abs(S[0,0]) / S[0,0]"
   ]
  },
  {
   "cell_type": "code",
   "execution_count": null,
   "metadata": {},
   "outputs": [
    {
     "data": {
      "text/plain": [
       "array([[ 0.47308167+0.j        , -0.83334361+0.28588838j],\n",
       "       [ 0.09860751+0.87548289j,  0.2026334 +0.42748797j]])"
      ]
     },
     "execution_count": 10,
     "metadata": {},
     "output_type": "execute_result"
    }
   ],
   "source": [
    "U = photon_unitary(S, photons)\n",
    "S_rebuilt = scattering_from_unitary(U, modes, photons)\n",
    "S_rebuilt * np.abs(S_rebuilt[0,0]) / S_rebuilt[0,0]"
   ]
  },
  {
   "cell_type": "code",
   "execution_count": null,
   "metadata": {},
   "outputs": [
    {
     "data": {
      "text/plain": [
       "array([[ 1.00000000e+00-3.89324133e-18j, -1.56852330e-16-4.88741333e-16j,\n",
       "         6.67418097e-17-8.47132576e-17j],\n",
       "       [-1.56852330e-16+5.00300016e-16j,  1.00000000e+00-2.66158367e-18j,\n",
       "        -3.80951538e-17+9.03737383e-18j],\n",
       "       [ 6.67418097e-17+7.59265331e-17j, -3.80951538e-17-9.04652781e-18j,\n",
       "         1.00000000e+00+9.28473281e-18j]])"
      ]
     },
     "execution_count": 6,
     "metadata": {},
     "output_type": "execute_result"
    }
   ],
   "source": [
    "S_rebuilt.conj().T @ S_rebuilt"
   ]
  },
  {
   "cell_type": "code",
   "execution_count": null,
   "metadata": {},
   "outputs": [
    {
     "data": {
      "text/plain": [
       "array([[1.00000000e+00-3.87367221e-18j, 4.96176327e-17+9.61227783e-17j],\n",
       "       [4.96176327e-17-8.34514785e-17j, 1.00000000e+00-2.32023306e-18j]])"
      ]
     },
     "execution_count": 3,
     "metadata": {},
     "output_type": "execute_result"
    }
   ],
   "source": [
    "S.conj().T @ S"
   ]
  },
  {
   "cell_type": "code",
   "execution_count": null,
   "metadata": {},
   "outputs": [
    {
     "data": {
      "text/plain": [
       "array([[ 1.        -0.j        , -0.57070504+0.27842186j,\n",
       "         0.66022517-1.52130725j],\n",
       "       [ 0.0492536 +0.88879111j,  1.32853168-0.9259798j ,\n",
       "        -0.34726658-0.78618786j],\n",
       "       [ 0.71479325-1.36021728j,  0.94823192-0.47821985j,\n",
       "         0.73775143+0.34678578j]])"
      ]
     },
     "execution_count": 16,
     "metadata": {},
     "output_type": "execute_result"
    }
   ],
   "source": [
    "S / S[0,0]"
   ]
  },
  {
   "cell_type": "code",
   "execution_count": null,
   "metadata": {},
   "outputs": [
    {
     "data": {
      "text/plain": [
       "array([[ 0.49067406-4.10162368e-18j, -0.19801123+9.66009591e-02j,\n",
       "         0.32395537-7.46466009e-01j],\n",
       "       [ 0.02416746+4.36106743e-01j,  0.46094597-3.21276985e-01j,\n",
       "        -0.1703947 -3.85761990e-01j],\n",
       "       [ 0.35073051-6.67423340e-01j,  0.32899756-1.65922660e-01j,\n",
       "         0.36199549+1.70158788e-01j]])"
      ]
     },
     "execution_count": 22,
     "metadata": {},
     "output_type": "execute_result"
    }
   ],
   "source": [
    "S_rebuilt"
   ]
  },
  {
   "cell_type": "code",
   "execution_count": null,
   "metadata": {},
   "outputs": [
    {
     "data": {
      "text/plain": [
       "array([[ 1.        +0.j        , -0.4035494 +0.19687399j,\n",
       "         0.66022517-1.52130725j],\n",
       "       [ 0.0492536 +0.88879111j,  0.93941376-0.65476659j,\n",
       "        -0.34726658-0.78618786j],\n",
       "       [ 0.71479325-1.36021728j,  0.67050122-0.3381525j ,\n",
       "         0.73775143+0.34678578j]])"
      ]
     },
     "execution_count": 23,
     "metadata": {},
     "output_type": "execute_result"
    }
   ],
   "source": [
    "S_rebuilt / S_rebuilt[0,0]"
   ]
  },
  {
   "cell_type": "code",
   "execution_count": null,
   "metadata": {},
   "outputs": [
    {
     "data": {
      "text/plain": [
       "array([[ 1.00000000e+00+1.31726415e-17j,  1.10992661e-16+8.72183968e-17j,\n",
       "         5.98846412e-16+4.94304874e-16j],\n",
       "       [ 1.10992661e-16-4.84592509e-17j,  5.00000000e-01-3.98285607e-18j,\n",
       "        -2.04635942e-16-1.64199076e-17j],\n",
       "       [ 5.98846412e-16-4.88417675e-16j, -2.04635942e-16+1.10988902e-19j,\n",
       "         1.00000000e+00-1.21122893e-17j]])"
      ]
     },
     "execution_count": 24,
     "metadata": {},
     "output_type": "execute_result"
    }
   ],
   "source": [
    "S_rebuilt.conj().T @ S_rebuilt"
   ]
  },
  {
   "cell_type": "code",
   "execution_count": null,
   "metadata": {},
   "outputs": [],
   "source": [
    "U_rebuilt = photon_unitary(S_rebuilt, photons)"
   ]
  },
  {
   "cell_type": "code",
   "execution_count": null,
   "metadata": {},
   "outputs": [
    {
     "data": {
      "text/plain": [
       "array([[-0.56702093-0.21133125j,  0.43652808+0.38497648j,\n",
       "        -0.12569491+0.35119156j, -0.12977857-0.24800985j,\n",
       "         0.16530281-0.19244446j,  0.10873656+0.03732412j],\n",
       "       [ 0.29986088+0.54784797j,  0.09353256-0.00643833j,\n",
       "        -0.36989736+0.04116174j, -0.02003941-0.30762489j,\n",
       "         0.50057331-0.0154208j ,  0.08801303+0.33022043j],\n",
       "       [ 0.02715681+0.29513886j, -0.29803083+0.33150638j,\n",
       "         0.48649403+0.25811359j,  0.46367688-0.30511087j,\n",
       "         0.02007708-0.12224103j,  0.16179897-0.24601601j],\n",
       "       [ 0.06795328-0.31504803j,  0.09212081-0.31770594j,\n",
       "         0.51123807+0.25700761j,  0.05852773-0.15934892j,\n",
       "         0.35712453+0.21193962j, -0.33462803+0.38214746j],\n",
       "       [ 0.12594016-0.1758571j ,  0.48036677-0.18347193j,\n",
       "         0.03255072-0.18928854j,  0.4263886 -0.07097713j,\n",
       "        -0.05838246+0.28031085j,  0.61890883-0.00580026j],\n",
       "       [ 0.06224593-0.03733467j,  0.27836504+0.04902144j,\n",
       "         0.03410602-0.23146849j,  0.34685323+0.42726497j,\n",
       "         0.48860061-0.41989657j, -0.25369126-0.27898928j]])"
      ]
     },
     "execution_count": 5,
     "metadata": {},
     "output_type": "execute_result"
    }
   ],
   "source": [
    "U"
   ]
  },
  {
   "cell_type": "code",
   "execution_count": null,
   "metadata": {},
   "outputs": [],
   "source": [
    "from qoptcraft.state import Fock"
   ]
  }
 ],
 "metadata": {
  "kernelspec": {
   "display_name": "qoptics",
   "language": "python",
   "name": "python3"
  },
  "language_info": {
   "codemirror_mode": {
    "name": "ipython",
    "version": 3
   },
   "file_extension": ".py",
   "mimetype": "text/x-python",
   "name": "python",
   "nbconvert_exporter": "python",
   "pygments_lexer": "ipython3",
   "version": "3.11.0"
  }
 },
 "nbformat": 4,
 "nbformat_minor": 2
}
