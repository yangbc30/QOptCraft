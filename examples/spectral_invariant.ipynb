{
 "cells": [
  {
   "cell_type": "code",
   "execution_count": 13,
   "metadata": {},
   "outputs": [],
   "source": [
    "import numpy as np\n",
    "\n",
    "from qoptcraft.invariant import spectral_invariant\n",
    "from qoptcraft import Fock"
   ]
  },
  {
   "cell_type": "markdown",
   "metadata": {},
   "source": [
    "### Same spectral invariant"
   ]
  },
  {
   "cell_type": "code",
   "execution_count": 14,
   "metadata": {},
   "outputs": [
    {
     "data": {
      "text/plain": [
       "array([0.+0.14285714j, 0.+0.14285714j, 0.+0.14285714j, 0.+0.14285714j,\n",
       "       0.+0.14285714j, 0.+0.14285714j, 0.+0.14285714j, 0.-0.14285714j,\n",
       "       0.-0.14285714j, 0.-0.14285714j, 0.+0.85714286j, 0.-0.14285714j,\n",
       "       0.-0.14285714j, 0.-0.14285714j])"
      ]
     },
     "execution_count": 14,
     "metadata": {},
     "output_type": "execute_result"
    }
   ],
   "source": [
    "state = Fock(3, 3)\n",
    "spectral_invariant(state, subspace=\"full\")"
   ]
  },
  {
   "cell_type": "code",
   "execution_count": 15,
   "metadata": {},
   "outputs": [
    {
     "data": {
      "text/plain": [
       "array([ 0.+0.14285714j,  0.+0.14285714j,  0.+0.14285714j,  0.+0.14285714j,\n",
       "        0.+0.14285714j,  0.+0.14285714j,  0.+0.14285714j,  0.-0.14285714j,\n",
       "       -0.+0.85714286j,  0.-0.14285714j,  0.-0.14285714j,  0.-0.14285714j,\n",
       "        0.-0.14285714j,  0.-0.14285714j])"
      ]
     },
     "execution_count": 15,
     "metadata": {},
     "output_type": "execute_result"
    }
   ],
   "source": [
    "state= 1/np.sqrt(2)*Fock(6, 0) + 1/np.sqrt(2)*Fock(0, 6)\n",
    "spectral_invariant(state, subspace=\"full\")"
   ]
  },
  {
   "cell_type": "markdown",
   "metadata": {},
   "source": [
    "### Different invariant"
   ]
  },
  {
   "cell_type": "code",
   "execution_count": 16,
   "metadata": {},
   "outputs": [
    {
     "data": {
      "text/plain": [
       "array([0.+0.08333333j, 0.+0.08333333j, 0.+0.05952381j, 0.+0.08333333j,\n",
       "       0.+0.05952381j, 0.+0.03571429j, 0.+0.08333333j, 0.+0.05952381j,\n",
       "       0.+0.03571429j, 0.+0.01190476j, 0.+0.08333333j, 0.+0.05952381j,\n",
       "       0.+0.03571429j, 0.+0.01190476j, 0.-0.01190476j, 0.+0.08333333j,\n",
       "       0.+0.05952381j, 0.+0.03571429j, 0.+0.01190476j, 0.-0.01190476j,\n",
       "       0.-0.03571429j, 0.+0.08333333j, 0.+0.05952381j, 0.+0.03571429j,\n",
       "       0.+0.01190476j, 0.-0.01190476j, 0.-0.03571429j, 0.-0.05952381j,\n",
       "       0.-0.08333333j, 0.-0.08333333j, 0.-0.05952381j, 0.-0.08333333j,\n",
       "       0.-0.05952381j, 0.-0.03571429j, 0.+0.91666667j, 0.-0.05952381j,\n",
       "       0.-0.03571429j, 0.-0.01190476j, 0.-0.08333333j, 0.-0.05952381j,\n",
       "       0.-0.03571429j, 0.-0.01190476j, 0.+0.01190476j, 0.-0.08333333j,\n",
       "       0.-0.05952381j, 0.-0.03571429j, 0.-0.01190476j, 0.+0.01190476j,\n",
       "       0.+0.03571429j, 0.-0.08333333j, 0.-0.05952381j, 0.-0.03571429j,\n",
       "       0.-0.01190476j, 0.+0.01190476j, 0.+0.03571429j, 0.+0.05952381j])"
      ]
     },
     "execution_count": 16,
     "metadata": {},
     "output_type": "execute_result"
    }
   ],
   "source": [
    "state = Fock(3, 3, 0)\n",
    "spectral_invariant(state, subspace=\"full\")"
   ]
  },
  {
   "cell_type": "code",
   "execution_count": 17,
   "metadata": {},
   "outputs": [
    {
     "data": {
      "text/plain": [
       "array([0.-0.01190476j, 0.-0.01190476j, 0.+0.01190476j, 0.-0.01190476j,\n",
       "       0.+0.01190476j, 0.+0.03571429j, 0.-0.01190476j, 0.+0.01190476j,\n",
       "       0.+0.03571429j, 0.+0.05952381j, 0.-0.01190476j, 0.+0.01190476j,\n",
       "       0.+0.03571429j, 0.+0.05952381j, 0.+0.08333333j, 0.-0.01190476j,\n",
       "       0.+0.01190476j, 0.+0.03571429j, 0.+0.05952381j, 0.+0.08333333j,\n",
       "       0.+0.10714286j, 0.-0.01190476j, 0.+0.01190476j, 0.+0.03571429j,\n",
       "       0.+0.05952381j, 0.+0.08333333j, 0.+0.10714286j, 0.+0.13095238j,\n",
       "       0.+0.01190476j, 0.+0.01190476j, 0.-0.01190476j, 0.+0.01190476j,\n",
       "       0.-0.01190476j, 0.-0.03571429j, 0.+0.01190476j, 0.-0.01190476j,\n",
       "       0.-0.03571429j, 0.-0.05952381j, 0.+0.01190476j, 0.-0.01190476j,\n",
       "       0.-0.03571429j, 0.-0.05952381j, 0.-0.08333333j, 0.+0.01190476j,\n",
       "       0.-0.01190476j, 0.-0.03571429j, 0.-0.05952381j, 0.+0.91666667j,\n",
       "       0.-0.10714286j, 0.+0.01190476j, 0.-0.01190476j, 0.-0.03571429j,\n",
       "       0.-0.05952381j, 0.-0.08333333j, 0.-0.10714286j, 0.-0.13095238j])"
      ]
     },
     "execution_count": 17,
     "metadata": {},
     "output_type": "execute_result"
    }
   ],
   "source": [
    "state= Fock(1,1,4)\n",
    "spectral_invariant(state, subspace=\"full\")"
   ]
  },
  {
   "cell_type": "markdown",
   "metadata": {},
   "source": [
    "### Hong-Ou-Mandel"
   ]
  },
  {
   "cell_type": "code",
   "execution_count": 18,
   "metadata": {},
   "outputs": [
    {
     "data": {
      "text/plain": [
       "array([0.+0.33333333j, 0.+0.33333333j, 0.+0.33333333j, 0.-0.33333333j,\n",
       "       0.+0.66666667j, 0.-0.33333333j])"
      ]
     },
     "execution_count": 18,
     "metadata": {},
     "output_type": "execute_result"
    }
   ],
   "source": [
    "state = Fock(1, 1)\n",
    "spectral_invariant(state, subspace=\"full\")"
   ]
  },
  {
   "cell_type": "code",
   "execution_count": 19,
   "metadata": {},
   "outputs": [
    {
     "data": {
      "text/plain": [
       "array([0.+0.33333333j, 0.+0.33333333j, 0.+0.33333333j, 0.+0.66666667j,\n",
       "       0.-0.33333333j, 0.-0.33333333j])"
      ]
     },
     "execution_count": 19,
     "metadata": {},
     "output_type": "execute_result"
    }
   ],
   "source": [
    "state= Fock(2,0)-Fock(0,2)\n",
    "spectral_invariant(state, subspace=\"full\")"
   ]
  },
  {
   "cell_type": "code",
   "execution_count": 20,
   "metadata": {},
   "outputs": [
    {
     "data": {
      "text/plain": [
       "array([0.+0.83333333j, 0.+0.33333333j, 0.-0.16666667j, 0.+0.16666667j,\n",
       "       0.-0.33333333j, 0.+0.16666667j])"
      ]
     },
     "execution_count": 20,
     "metadata": {},
     "output_type": "execute_result"
    }
   ],
   "source": [
    "state = Fock(2, 0)\n",
    "spectral_invariant(state, subspace=\"full\")"
   ]
  },
  {
   "cell_type": "markdown",
   "metadata": {},
   "source": [
    "### More examples"
   ]
  },
  {
   "cell_type": "code",
   "execution_count": 21,
   "metadata": {},
   "outputs": [
    {
     "data": {
      "text/plain": [
       "array([0.+0.11111111j, 0.+0.11111111j, 0.+0.11111111j, 0.+0.11111111j,\n",
       "       0.+0.11111111j, 0.+0.11111111j, 0.+0.11111111j, 0.+0.11111111j,\n",
       "       0.+0.11111111j, 0.-0.11111111j, 0.-0.11111111j, 0.-0.11111111j,\n",
       "       0.-0.11111111j, 0.+0.88888889j, 0.-0.11111111j, 0.-0.11111111j,\n",
       "       0.-0.11111111j, 0.-0.11111111j])"
      ]
     },
     "execution_count": 21,
     "metadata": {},
     "output_type": "execute_result"
    }
   ],
   "source": [
    "state = Fock(4, 4)\n",
    "spectral_invariant(state, subspace=\"full\")"
   ]
  },
  {
   "cell_type": "code",
   "execution_count": 22,
   "metadata": {},
   "outputs": [
    {
     "data": {
      "text/plain": [
       "array([0.+0.11111111j, 0.+0.11111111j, 0.+0.11111111j, 0.+0.11111111j,\n",
       "       0.+0.11111111j, 0.+0.11111111j, 0.+0.11111111j, 0.+0.11111111j,\n",
       "       0.+0.11111111j, 0.+0.88888889j, 0.-0.11111111j, 0.-0.11111111j,\n",
       "       0.-0.11111111j, 0.-0.11111111j, 0.-0.11111111j, 0.-0.11111111j,\n",
       "       0.-0.11111111j, 0.-0.11111111j])"
      ]
     },
     "execution_count": 22,
     "metadata": {},
     "output_type": "execute_result"
    }
   ],
   "source": [
    "state= 1/np.sqrt(2)*Fock(8, 0) + 1/np.sqrt(2)*Fock(0, 8)\n",
    "spectral_invariant(state, subspace=\"full\")"
   ]
  },
  {
   "cell_type": "code",
   "execution_count": 23,
   "metadata": {},
   "outputs": [
    {
     "data": {
      "text/plain": [
       "array([0.+0.09090909j, 0.+0.09090909j, 0.+0.09090909j, 0.+0.09090909j,\n",
       "       0.+0.09090909j, 0.+0.09090909j, 0.+0.09090909j, 0.+0.09090909j,\n",
       "       0.+0.09090909j, 0.+0.09090909j, 0.+0.09090909j, 0.-0.09090909j,\n",
       "       0.-0.09090909j, 0.-0.09090909j, 0.-0.09090909j, 0.-0.09090909j,\n",
       "       0.+0.90909091j, 0.-0.09090909j, 0.-0.09090909j, 0.-0.09090909j,\n",
       "       0.-0.09090909j, 0.-0.09090909j])"
      ]
     },
     "execution_count": 23,
     "metadata": {},
     "output_type": "execute_result"
    }
   ],
   "source": [
    "state = Fock(5, 5)\n",
    "spectral_invariant(state, subspace=\"full\")"
   ]
  },
  {
   "cell_type": "code",
   "execution_count": 24,
   "metadata": {},
   "outputs": [
    {
     "data": {
      "text/plain": [
       "array([0.+0.09090909j, 0.+0.09090909j, 0.+0.09090909j, 0.+0.09090909j,\n",
       "       0.+0.09090909j, 0.+0.09090909j, 0.+0.09090909j, 0.+0.09090909j,\n",
       "       0.+0.09090909j, 0.+0.09090909j, 0.+0.09090909j, 0.+0.90909091j,\n",
       "       0.-0.09090909j, 0.-0.09090909j, 0.-0.09090909j, 0.-0.09090909j,\n",
       "       0.-0.09090909j, 0.-0.09090909j, 0.-0.09090909j, 0.-0.09090909j,\n",
       "       0.-0.09090909j, 0.-0.09090909j])"
      ]
     },
     "execution_count": 24,
     "metadata": {},
     "output_type": "execute_result"
    }
   ],
   "source": [
    "state= 1/np.sqrt(2)*Fock(10, 0) + 1/np.sqrt(2)*Fock(0, 10)\n",
    "spectral_invariant(state, subspace=\"full\")"
   ]
  },
  {
   "cell_type": "markdown",
   "metadata": {},
   "source": [
    "### NOON"
   ]
  },
  {
   "cell_type": "code",
   "execution_count": 28,
   "metadata": {},
   "outputs": [
    {
     "data": {
      "text/plain": [
       "array([0.+0.2j, 0.+0.2j, 0.+0.2j, 0.+0.2j, 0.+0.2j])"
      ]
     },
     "execution_count": 28,
     "metadata": {},
     "output_type": "execute_result"
    }
   ],
   "source": [
    "state = Fock(2, 2)\n",
    "spectral_invariant(state, subspace=\"image\")"
   ]
  },
  {
   "cell_type": "code",
   "execution_count": 31,
   "metadata": {},
   "outputs": [
    {
     "data": {
      "text/plain": [
       "array([0.+0.2j, 0.+0.2j, 0.+0.2j, 0.+0.2j, 0.+0.2j, 0.+0.8j, 0.-0.2j,\n",
       "       0.-0.2j, 0.-0.2j, 0.-0.2j])"
      ]
     },
     "execution_count": 31,
     "metadata": {},
     "output_type": "execute_result"
    }
   ],
   "source": [
    "spectral_invariant(state, subspace=\"full\")"
   ]
  },
  {
   "cell_type": "code",
   "execution_count": 30,
   "metadata": {},
   "outputs": [
    {
     "data": {
      "text/plain": [
       "array([0.+0.2j, 0.+0.2j, 0.+0.2j, 0.+0.2j, 0.+0.2j])"
      ]
     },
     "execution_count": 30,
     "metadata": {},
     "output_type": "execute_result"
    }
   ],
   "source": [
    "state = Fock(4, 0) + Fock(0, 4)\n",
    "spectral_invariant(state, subspace=\"image\")"
   ]
  },
  {
   "cell_type": "code",
   "execution_count": 32,
   "metadata": {},
   "outputs": [
    {
     "data": {
      "text/plain": [
       "array([0.+0.2j, 0.+0.2j, 0.+0.2j, 0.+0.2j, 0.+0.2j, 0.+0.8j, 0.-0.2j,\n",
       "       0.-0.2j, 0.-0.2j, 0.-0.2j])"
      ]
     },
     "execution_count": 32,
     "metadata": {},
     "output_type": "execute_result"
    }
   ],
   "source": [
    "spectral_invariant(state, subspace=\"full\")"
   ]
  },
  {
   "cell_type": "code",
   "execution_count": 33,
   "metadata": {},
   "outputs": [
    {
     "data": {
      "text/plain": [
       "array([0.+0.14285714j, 0.+0.14285714j, 0.+0.14285714j, 0.+0.14285714j,\n",
       "       0.+0.14285714j, 0.+0.14285714j, 0.+0.14285714j])"
      ]
     },
     "execution_count": 33,
     "metadata": {},
     "output_type": "execute_result"
    }
   ],
   "source": [
    "state = Fock(3, 3)\n",
    "spectral_invariant(state, subspace=\"image\")"
   ]
  },
  {
   "cell_type": "code",
   "execution_count": 34,
   "metadata": {},
   "outputs": [
    {
     "data": {
      "text/plain": [
       "array([0.+0.14285714j, 0.+0.14285714j, 0.+0.14285714j, 0.+0.14285714j,\n",
       "       0.+0.14285714j, 0.+0.14285714j, 0.+0.14285714j, 0.-0.14285714j,\n",
       "       0.-0.14285714j, 0.-0.14285714j, 0.+0.85714286j, 0.-0.14285714j,\n",
       "       0.-0.14285714j, 0.-0.14285714j])"
      ]
     },
     "execution_count": 34,
     "metadata": {},
     "output_type": "execute_result"
    }
   ],
   "source": [
    "spectral_invariant(state, subspace=\"full\")"
   ]
  },
  {
   "cell_type": "code",
   "execution_count": 35,
   "metadata": {},
   "outputs": [
    {
     "data": {
      "text/plain": [
       "array([0.+0.14285714j, 0.+0.14285714j, 0.+0.14285714j, 0.+0.14285714j,\n",
       "       0.+0.14285714j, 0.+0.14285714j, 0.+0.14285714j])"
      ]
     },
     "execution_count": 35,
     "metadata": {},
     "output_type": "execute_result"
    }
   ],
   "source": [
    "state = Fock(6, 0) + Fock(0, 6)\n",
    "spectral_invariant(state, subspace=\"image\")"
   ]
  },
  {
   "cell_type": "code",
   "execution_count": 36,
   "metadata": {},
   "outputs": [
    {
     "data": {
      "text/plain": [
       "array([0.+0.14285714j, 0.+0.14285714j, 0.+0.14285714j, 0.+0.14285714j,\n",
       "       0.+0.14285714j, 0.+0.14285714j, 0.+0.14285714j, 0.-0.14285714j,\n",
       "       0.+0.85714286j, 0.-0.14285714j, 0.-0.14285714j, 0.-0.14285714j,\n",
       "       0.-0.14285714j, 0.-0.14285714j])"
      ]
     },
     "execution_count": 36,
     "metadata": {},
     "output_type": "execute_result"
    }
   ],
   "source": [
    "spectral_invariant(state, subspace=\"full\")"
   ]
  },
  {
   "cell_type": "code",
   "execution_count": null,
   "metadata": {},
   "outputs": [],
   "source": []
  }
 ],
 "metadata": {
  "kernelspec": {
   "display_name": "quantum",
   "language": "python",
   "name": "python3"
  },
  "language_info": {
   "codemirror_mode": {
    "name": "ipython",
    "version": 3
   },
   "file_extension": ".py",
   "mimetype": "text/x-python",
   "name": "python",
   "nbconvert_exporter": "python",
   "pygments_lexer": "ipython3",
   "version": "3.11.3"
  }
 },
 "nbformat": 4,
 "nbformat_minor": 2
}
