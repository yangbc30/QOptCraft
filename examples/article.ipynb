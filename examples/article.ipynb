{
 "cells": [
  {
   "cell_type": "markdown",
   "metadata": {},
   "source": [
    "# Examples for _No-go theorems for photon state transformations in quantum linear optics_"
   ]
  },
  {
   "cell_type": "markdown",
   "metadata": {},
   "source": [
    "In this short notebook, we perform the calculations used in the article *No-go theorems for photon state transformations in quantum linear optics* using the library `QOptCraft`."
   ]
  },
  {
   "cell_type": "code",
   "execution_count": 1,
   "metadata": {},
   "outputs": [],
   "source": [
    "import numpy as np\n",
    "\n",
    "from qoptcraft import (\n",
    "    Fock,\n",
    "    photon_invariant,\n",
    "    forbidden_transition,\n",
    "    unitary_algebra_basis,\n",
    "    image_algebra_basis,\n",
    "    photon_basis,\n",
    ")\n",
    "from qoptcraft.math import gram_schmidt"
   ]
  },
  {
   "cell_type": "markdown",
   "metadata": {},
   "source": [
    "## Hilbert space and algebra bases"
   ]
  },
  {
   "cell_type": "markdown",
   "metadata": {},
   "source": [
    "We begin by obtaining the basis of the Hilbert space with 2 modes and 2 photons:"
   ]
  },
  {
   "cell_type": "code",
   "execution_count": 2,
   "metadata": {},
   "outputs": [
    {
     "data": {
      "text/plain": [
       "[(2, 0), (1, 1), (0, 2)]"
      ]
     },
     "execution_count": 2,
     "metadata": {},
     "output_type": "execute_result"
    }
   ],
   "source": [
    "modes = 2\n",
    "photons = 2\n",
    "photon_basis(modes, photons)"
   ]
  },
  {
   "cell_type": "markdown",
   "metadata": {},
   "source": [
    "`QOptCraft` returns the basis of the image algebra as sparse matrices to save space. The following cell returns a basis of the image of the Lie algebra of hermitian matrices of dimension 2 under the photonic homomorphism for 2 photons."
   ]
  },
  {
   "cell_type": "code",
   "execution_count": 3,
   "metadata": {},
   "outputs": [
    {
     "name": "stdout",
     "output_type": "stream",
     "text": [
      "b1 = [[0.+2.j 0.+0.j 0.+0.j]\n",
      " [0.+0.j 0.+1.j 0.+0.j]\n",
      " [0.+0.j 0.+0.j 0.+0.j]]\n",
      "\n",
      "b2 = [[0.+0.j         0.+0.70710678j 0.+0.j        ]\n",
      " [0.+0.70710678j 0.+0.j         0.+0.70710678j]\n",
      " [0.+0.j         0.+0.70710678j 0.+0.j        ]]\n",
      "\n",
      "b3 = [[0.+0.j 0.+0.j 0.+0.j]\n",
      " [0.+0.j 0.+1.j 0.+0.j]\n",
      " [0.+0.j 0.+0.j 0.+2.j]]\n",
      "\n",
      "b4 = [[ 0.        +0.j -0.70710678+0.j  0.        +0.j]\n",
      " [ 0.70710678+0.j  0.        +0.j -0.70710678+0.j]\n",
      " [ 0.        +0.j  0.70710678+0.j  0.        +0.j]]\n",
      "\n"
     ]
    }
   ],
   "source": [
    "basis_algebra = unitary_algebra_basis(modes)\n",
    "basis_image_algebra = image_algebra_basis(modes, photons)\n",
    "for i, matrix in enumerate(basis_image_algebra):\n",
    "    print(f\"b{i + 1} = {matrix.toarray()}\\n\")"
   ]
  },
  {
   "cell_type": "markdown",
   "metadata": {},
   "source": [
    "We can obtain an orthonormal basis using the gram-schmidt algorithm"
   ]
  },
  {
   "cell_type": "code",
   "execution_count": 4,
   "metadata": {},
   "outputs": [
    {
     "name": "stdout",
     "output_type": "stream",
     "text": [
      "c1 = [[0.+0.89442719j 0.+0.j         0.+0.j        ]\n",
      " [0.+0.j         0.+0.4472136j  0.+0.j        ]\n",
      " [0.+0.j         0.+0.j         0.+0.j        ]]\n",
      "\n",
      "c2 = [[0.+0.j  0.+0.5j 0.+0.j ]\n",
      " [0.+0.5j 0.+0.j  0.+0.5j]\n",
      " [0.+0.j  0.+0.5j 0.+0.j ]]\n",
      "\n",
      "c3 = [[0.-0.18257419j 0.+0.j         0.+0.j        ]\n",
      " [0.+0.j         0.+0.36514837j 0.+0.j        ]\n",
      " [0.+0.j         0.+0.j         0.+0.91287093j]]\n",
      "\n",
      "c4 = [[ 0. +0.j -0.5+0.j  0. +0.j]\n",
      " [ 0.5+0.j  0. +0.j -0.5+0.j]\n",
      " [ 0. +0.j  0.5+0.j  0. +0.j]]\n",
      "\n"
     ]
    }
   ],
   "source": [
    "ortho_basis_image = gram_schmidt(basis_image_algebra)\n",
    "for i, matrix in enumerate(ortho_basis_image):\n",
    "    print(f\"c{i + 1} = {matrix.toarray()}\\n\")"
   ]
  },
  {
   "cell_type": "markdown",
   "metadata": {},
   "source": [
    "## Computing invariants"
   ]
  },
  {
   "cell_type": "markdown",
   "metadata": {},
   "source": [
    "### Fock state"
   ]
  },
  {
   "cell_type": "markdown",
   "metadata": {},
   "source": [
    "The function `photon_invariant` computes the tangent and perpendicular invariants (in this order)."
   ]
  },
  {
   "cell_type": "code",
   "execution_count": 5,
   "metadata": {},
   "outputs": [
    {
     "name": "stdout",
     "output_type": "stream",
     "text": [
      "tangent_invariant = 0.8333333333333333\n"
     ]
    }
   ],
   "source": [
    "state = Fock(2, 0)\n",
    "print(f\"tangent_invariant = {photon_invariant(state)}\")"
   ]
  },
  {
   "cell_type": "code",
   "execution_count": 6,
   "metadata": {},
   "outputs": [
    {
     "name": "stdout",
     "output_type": "stream",
     "text": [
      "tangent_invariant = 0.3333333333333332\n"
     ]
    }
   ],
   "source": [
    "state = Fock(1, 1)\n",
    "print(f\"tangent_invariant = {photon_invariant(state)}\")"
   ]
  },
  {
   "cell_type": "code",
   "execution_count": 7,
   "metadata": {},
   "outputs": [
    {
     "name": "stdout",
     "output_type": "stream",
     "text": [
      "tangent_invariant = 0.8333333333333336\n"
     ]
    }
   ],
   "source": [
    "state = Fock(0, 2)\n",
    "print(f\"tangent_invariant = {photon_invariant(state)}\")"
   ]
  },
  {
   "cell_type": "markdown",
   "metadata": {},
   "source": [
    "### Hong-Ou-Mandel"
   ]
  },
  {
   "cell_type": "markdown",
   "metadata": {},
   "source": [
    "We also compute the invariant of the a 50:50 beamsplitter (Hong-Ou-Mandel experiment output)"
   ]
  },
  {
   "cell_type": "code",
   "execution_count": 8,
   "metadata": {},
   "outputs": [
    {
     "name": "stdout",
     "output_type": "stream",
     "text": [
      "tangent_invariant = 0.3333333333333336\n"
     ]
    }
   ],
   "source": [
    "state = (Fock(2, 0) - Fock(0, 2)) / np.sqrt(2)\n",
    "print(f\"tangent_invariant = {photon_invariant(state)}\")"
   ]
  },
  {
   "cell_type": "markdown",
   "metadata": {},
   "source": [
    "### NOON states"
   ]
  },
  {
   "cell_type": "code",
   "execution_count": 9,
   "metadata": {},
   "outputs": [
    {
     "name": "stdout",
     "output_type": "stream",
     "text": [
      "In invariant = 0.3333333 \t Out invariant = 0.3333333\n",
      "\n",
      "Forbidden transition? False\n"
     ]
    }
   ],
   "source": [
    "state_in = Fock(1, 1)\n",
    "state_out = Fock(2, 0) + Fock(0, 2)\n",
    "print(f\"\\nForbidden transition? {forbidden_transition(state_in, state_out)}\")"
   ]
  },
  {
   "cell_type": "code",
   "execution_count": 10,
   "metadata": {},
   "outputs": [
    {
     "name": "stdout",
     "output_type": "stream",
     "text": [
      "In invariant = 0.2000000 \t Out invariant = 0.2000000\n",
      "\n",
      "Forbidden transition? False\n"
     ]
    }
   ],
   "source": [
    "state_in = Fock(2, 2)\n",
    "state_out = Fock(4, 0) + Fock(0, 4)\n",
    "print(f\"\\nForbidden transition? {forbidden_transition(state_in, state_out)}\")"
   ]
  },
  {
   "cell_type": "code",
   "execution_count": 11,
   "metadata": {},
   "outputs": [
    {
     "name": "stdout",
     "output_type": "stream",
     "text": [
      "In invariant = 0.1428571 \t Out invariant = 0.1428571\n",
      "\n",
      "Forbidden transition? False\n"
     ]
    }
   ],
   "source": [
    "state_in = Fock(3, 3)\n",
    "state_out = Fock(6, 0) + Fock(0, 6)\n",
    "print(f\"\\nForbidden transition? {forbidden_transition(state_in, state_out)}\")"
   ]
  },
  {
   "cell_type": "code",
   "execution_count": 12,
   "metadata": {},
   "outputs": [
    {
     "name": "stdout",
     "output_type": "stream",
     "text": [
      "In invariant = 0.1111111 \t Out invariant = 0.1111111\n",
      "\n",
      "Forbidden transition? False\n"
     ]
    }
   ],
   "source": [
    "state_in = Fock(4, 4)\n",
    "state_out = Fock(8, 0) + Fock(0, 8)\n",
    "print(f\"\\nForbidden transition? {forbidden_transition(state_in, state_out)}\")"
   ]
  },
  {
   "cell_type": "code",
   "execution_count": 13,
   "metadata": {},
   "outputs": [
    {
     "name": "stdout",
     "output_type": "stream",
     "text": [
      "In invariant = 0.0909091 \t Out invariant = 0.0909091\n",
      "\n",
      "Forbidden transition? False\n"
     ]
    }
   ],
   "source": [
    "state_in = Fock(5, 5)\n",
    "state_out = Fock(10, 0) + Fock(0, 10)\n",
    "print(f\"\\nForbidden transition? {forbidden_transition(state_in, state_out)}\")"
   ]
  },
  {
   "cell_type": "markdown",
   "metadata": {},
   "source": [
    "## Reduced invariants"
   ]
  },
  {
   "cell_type": "markdown",
   "metadata": {},
   "source": [
    "We can call the reduced invariant using the `method='reduced'` option in the functions `can_transition` and `invariant`."
   ]
  },
  {
   "cell_type": "code",
   "execution_count": 14,
   "metadata": {},
   "outputs": [
    {
     "name": "stdout",
     "output_type": "stream",
     "text": [
      "tangent_invariant = 0.0\n"
     ]
    }
   ],
   "source": [
    "state = Fock(0, 2)\n",
    "print(f\"tangent_invariant = {photon_invariant(state, method='reduced')}\")"
   ]
  },
  {
   "cell_type": "markdown",
   "metadata": {},
   "source": [
    "For pure states, we can recover the full invariant using theorem 2 without using the algebra basis:"
   ]
  },
  {
   "cell_type": "code",
   "execution_count": 15,
   "metadata": {},
   "outputs": [
    {
     "name": "stdout",
     "output_type": "stream",
     "text": [
      "tangent_invariant = 0.8333333333333334\n"
     ]
    }
   ],
   "source": [
    "state = Fock(0, 2)\n",
    "print(f\"tangent_invariant = {photon_invariant(state, method='no basis')}\")"
   ]
  },
  {
   "cell_type": "markdown",
   "metadata": {},
   "source": [
    "The reduced invariant allows us to apply the invariant criterion"
   ]
  },
  {
   "cell_type": "code",
   "execution_count": 16,
   "metadata": {},
   "outputs": [
    {
     "name": "stdout",
     "output_type": "stream",
     "text": [
      "In reduced invariant = -16.0000000\t Out reduced invariant = -16.0000000\n",
      "\n",
      "Forbidden transition? False\n"
     ]
    }
   ],
   "source": [
    "state_in = Fock(4, 4)\n",
    "state_out = Fock(8, 0) + Fock(0, 8)\n",
    "print(f\"\\nForbidden transition? {forbidden_transition(state_in, state_out, method='reduced')}\")"
   ]
  },
  {
   "cell_type": "markdown",
   "metadata": {},
   "source": [
    "### Most transitions between fock states are forbidden"
   ]
  },
  {
   "cell_type": "code",
   "execution_count": 17,
   "metadata": {},
   "outputs": [
    {
     "name": "stdout",
     "output_type": "stream",
     "text": [
      "\n",
      "Percentage of not forbidden transitions = 0.16956521739130434 %\n"
     ]
    }
   ],
   "source": [
    "not_forbidden = []\n",
    "random_draws = 1000\n",
    "max_photons_per_mode = 14\n",
    "rng = np.random.default_rng()\n",
    "min_modes = 2\n",
    "max_modes = 25\n",
    "for modes in range(min_modes, max_modes):\n",
    "    for _ in range(random_draws):\n",
    "        while True:\n",
    "            photons_in = rng.integers(low=0, high=max_photons_per_mode, size=modes, endpoint=True)\n",
    "            photons_out = rng.integers(low=0, high=max_photons_per_mode, size=modes - 1, endpoint=True)\n",
    "            if sum(photons_in) >= sum(photons_out):\n",
    "                photons_out = np.r_[photons_out, sum(photons_in) - sum(photons_out)]\n",
    "                if (np.sort(photons_in) != np.sort(photons_out)).all():\n",
    "                    state_in = Fock(*photons_in)\n",
    "                    state_out = Fock(*photons_out)\n",
    "                    break\n",
    "        if not forbidden_transition(state_in, state_out, method=\"reduced\", print_invariant=False):\n",
    "            not_forbidden.append((state_in, state_out))\n",
    "\n",
    "print(f\"\\nPercentage of not forbidden transitions = {len(not_forbidden) * 100 / (random_draws * (max_modes - min_modes))} %\")"
   ]
  },
  {
   "cell_type": "markdown",
   "metadata": {},
   "source": [
    "### Forbidden (n, 0) to (n-k, k) transition"
   ]
  },
  {
   "cell_type": "code",
   "execution_count": 18,
   "metadata": {},
   "outputs": [
    {
     "name": "stdout",
     "output_type": "stream",
     "text": [
      "In reduced invariant = 0.0000000\t Out reduced invariant = -1.0000000\n",
      "Forbidden transition? True\n",
      "\n",
      "In reduced invariant = 0.0000000\t Out reduced invariant = -2.0000000\n",
      "Forbidden transition? True\n",
      "\n",
      "In reduced invariant = 0.0000000\t Out reduced invariant = -2.0000000\n",
      "Forbidden transition? True\n",
      "\n",
      "In reduced invariant = 0.0000000\t Out reduced invariant = -3.0000000\n",
      "Forbidden transition? True\n",
      "\n",
      "In reduced invariant = 0.0000000\t Out reduced invariant = -4.0000000\n",
      "Forbidden transition? True\n",
      "\n",
      "In reduced invariant = 0.0000000\t Out reduced invariant = -3.0000000\n",
      "Forbidden transition? True\n",
      "\n"
     ]
    }
   ],
   "source": [
    "for n in range(5):\n",
    "    for k in range(1, n):\n",
    "        state_in = Fock(n, 0)\n",
    "        state_out = Fock(n - k, k)\n",
    "        print(\n",
    "            f\"Forbidden transition? {forbidden_transition(state_in, state_out, method='reduced')}\\n\"\n",
    "        )"
   ]
  },
  {
   "cell_type": "markdown",
   "metadata": {},
   "source": [
    "### Impossibility of Bell state with fock ancilla generation from a fock state"
   ]
  },
  {
   "cell_type": "code",
   "execution_count": null,
   "metadata": {},
   "outputs": [
    {
     "name": "stdout",
     "output_type": "stream",
     "text": [
      "In reduced invariant = -1.0000000\t Out reduced invariant = -1.5000000\n",
      "Forbidden transition? True\n",
      "\n",
      "In reduced invariant = -3.0000000\t Out reduced invariant = -3.5000000\n",
      "Forbidden transition? True\n",
      "\n",
      "In reduced invariant = -8.0000000\t Out reduced invariant = -7.5000000\n",
      "Forbidden transition? True\n",
      "\n",
      "In reduced invariant = -3.0000000\t Out reduced invariant = -3.5000000\n",
      "Forbidden transition? True\n",
      "\n",
      "In reduced invariant = -13.0000000\t Out reduced invariant = -13.5000000\n",
      "Forbidden transition? True\n",
      "\n",
      "In reduced invariant = -11.0000000\t Out reduced invariant = -12.5000000\n",
      "Forbidden transition? True\n",
      "\n",
      "In reduced invariant = -6.0000000\t Out reduced invariant = -6.5000000\n",
      "Forbidden transition? True\n",
      "\n",
      "In reduced invariant = -18.0000000\t Out reduced invariant = -19.5000000\n",
      "Forbidden transition? True\n",
      "\n",
      "In reduced invariant = -29.0000000\t Out reduced invariant = -30.5000000\n",
      "Forbidden transition? True\n",
      "\n"
     ]
    }
   ],
   "source": [
    "rng = np.random.default_rng()\n",
    "\n",
    "bell_state = (Fock(1, 0, 1, 0) + Fock(0, 1, 0, 1)) / np.sqrt(2)\n",
    "for modes in range(5, 8):\n",
    "    for max_photons_per_mode in range(1, 4):\n",
    "        while True:\n",
    "            photons_in = rng.integers(low=0, high=max_photons_per_mode, size=modes, endpoint=True)\n",
    "            photons_out = rng.integers(\n",
    "                low=0, high=max_photons_per_mode, size=modes - 4, endpoint=True\n",
    "            )\n",
    "            if sum(photons_in) - 2 == sum(photons_out) and sum(photons_in) != 0:\n",
    "                state_in = Fock(*photons_in)\n",
    "                state_out = bell_state * Fock(*photons_out)\n",
    "                break\n",
    "        print(\n",
    "            f\"Forbidden transition? {forbidden_transition(state_in, state_out, method='reduced')}\\n\"\n",
    "        )"
   ]
  },
  {
   "cell_type": "markdown",
   "metadata": {},
   "source": [
    "### Impossibility of exact transformation of GHZ into W (with fock ancillas)"
   ]
  },
  {
   "cell_type": "code",
   "execution_count": 20,
   "metadata": {},
   "outputs": [
    {
     "name": "stdout",
     "output_type": "stream",
     "text": [
      "In reduced invariant = -6.7500000\t Out reduced invariant = -6.6666667\n",
      "Forbidden transition? True\n",
      "\n",
      "In reduced invariant = -9.7500000\t Out reduced invariant = -9.6666667\n",
      "Forbidden transition? True\n",
      "\n",
      "In reduced invariant = -6.7500000\t Out reduced invariant = -6.6666667\n",
      "Forbidden transition? True\n",
      "\n",
      "In reduced invariant = -6.7500000\t Out reduced invariant = -6.6666667\n",
      "Forbidden transition? True\n",
      "\n",
      "In reduced invariant = -6.7500000\t Out reduced invariant = -6.6666667\n",
      "Forbidden transition? True\n",
      "\n",
      "In reduced invariant = -30.7500000\t Out reduced invariant = -30.6666667\n",
      "Forbidden transition? True\n",
      "\n",
      "In reduced invariant = -6.7500000\t Out reduced invariant = -6.6666667\n",
      "Forbidden transition? True\n",
      "\n",
      "In reduced invariant = -9.7500000\t Out reduced invariant = -10.6666667\n",
      "Forbidden transition? True\n",
      "\n",
      "In reduced invariant = -19.7500000\t Out reduced invariant = -20.6666667\n",
      "Forbidden transition? True\n",
      "\n",
      "In reduced invariant = -10.7500000\t Out reduced invariant = -10.6666667\n",
      "Forbidden transition? True\n",
      "\n",
      "In reduced invariant = -20.7500000\t Out reduced invariant = -20.6666667\n",
      "Forbidden transition? True\n",
      "\n",
      "In reduced invariant = -70.7500000\t Out reduced invariant = -70.6666667\n",
      "Forbidden transition? True\n",
      "\n"
     ]
    }
   ],
   "source": [
    "rng = np.random.default_rng()\n",
    "\n",
    "ghz_state = (Fock(1, 0, 1, 0, 1, 0) + Fock(0, 1, 0, 1, 0, 1)) / np.sqrt(2)\n",
    "w_state = (Fock(1, 0, 0, 1, 0, 1) + Fock(0, 1, 1, 0, 0, 1) + Fock(0, 1, 0, 1, 1, 0)) / np.sqrt(3)\n",
    "\n",
    "for modes in range(1, 5):\n",
    "    for max_photons_per_mode in range(1, 4):\n",
    "        while True:\n",
    "            photons_in = rng.integers(low=0, high=max_photons_per_mode, size=modes, endpoint=True)\n",
    "            photons_out = rng.integers(low=0, high=max_photons_per_mode, size=modes, endpoint=True)\n",
    "            if sum(photons_in) == sum(photons_out) and sum(photons_in) != 0:\n",
    "                state_in = ghz_state * Fock(*photons_in)\n",
    "                state_out = w_state * Fock(*photons_out)\n",
    "                break\n",
    "        print(\n",
    "            f\"Forbidden transition? {forbidden_transition(state_in, state_out, method='reduced')}\\n\"\n",
    "        )"
   ]
  }
 ],
 "metadata": {
  "kernelspec": {
   "display_name": "quantum",
   "language": "python",
   "name": "python3"
  },
  "language_info": {
   "codemirror_mode": {
    "name": "ipython",
    "version": 3
   },
   "file_extension": ".py",
   "mimetype": "text/x-python",
   "name": "python",
   "nbconvert_exporter": "python",
   "pygments_lexer": "ipython3",
   "version": "3.11.0"
  },
  "orig_nbformat": 4
 },
 "nbformat": 4,
 "nbformat_minor": 2
}
