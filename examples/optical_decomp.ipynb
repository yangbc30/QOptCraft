{
 "cells": [
  {
   "attachments": {},
   "cell_type": "markdown",
   "metadata": {},
   "source": [
    "# Decomposing an interferometer into beamsplitters and phase-shifters"
   ]
  },
  {
   "cell_type": "code",
   "execution_count": null,
   "metadata": {},
   "outputs": [],
   "source": [
    "import numpy as np\n",
    "\n",
    "from qoptcraft.optical_elements import clemens_decomposition, reck_decomposition\n",
    "from qoptcraft.math import haar_random_unitary"
   ]
  },
  {
   "attachments": {},
   "cell_type": "markdown",
   "metadata": {},
   "source": [
    "## Clemens decomposition"
   ]
  },
  {
   "attachments": {},
   "cell_type": "markdown",
   "metadata": {},
   "source": [
    "To perform the clemens decomposition of a unitary matrix into beamsplitters and phase shifters we simply use the function"
   ]
  },
  {
   "cell_type": "code",
   "execution_count": 2,
   "metadata": {},
   "outputs": [],
   "source": [
    "dim = 10\n",
    "interferometer = haar_random_unitary(dim)\n",
    "left_list, diag, right_list = clemens_decomposition(interferometer)"
   ]
  },
  {
   "attachments": {},
   "cell_type": "markdown",
   "metadata": {},
   "source": [
    "We can check that the decomposition was correct:"
   ]
  },
  {
   "cell_type": "code",
   "execution_count": 3,
   "metadata": {},
   "outputs": [],
   "source": [
    "clemens_list = [*left_list, diag, *right_list]\n",
    "\n",
    "recomposition = np.eye(dim)\n",
    "for matrix in clemens_list:\n",
    "    recomposition = recomposition @ matrix\n",
    "np.testing.assert_allclose(recomposition, interferometer, atol=1e-7, rtol=1e-5)"
   ]
  },
  {
   "attachments": {},
   "cell_type": "markdown",
   "metadata": {},
   "source": [
    "## Reck decomposition"
   ]
  },
  {
   "cell_type": "code",
   "execution_count": 4,
   "metadata": {},
   "outputs": [],
   "source": [
    "dim = 8\n",
    "interferometer = haar_random_unitary(dim)\n",
    "diag, right_list = reck_decomposition(interferometer)"
   ]
  },
  {
   "attachments": {},
   "cell_type": "markdown",
   "metadata": {},
   "source": [
    "We can check that the decomposition was correct:"
   ]
  },
  {
   "cell_type": "code",
   "execution_count": 5,
   "metadata": {},
   "outputs": [],
   "source": [
    "reck_list = [diag, *right_list]\n",
    "\n",
    "recomposition = np.eye(dim)\n",
    "for matrix in reck_list:\n",
    "    recomposition = recomposition @ matrix\n",
    "np.testing.assert_allclose(recomposition, interferometer, atol=1e-7, rtol=1e-5)"
   ]
  }
 ],
 "metadata": {
  "kernelspec": {
   "display_name": "quantum",
   "language": "python",
   "name": "python3"
  },
  "language_info": {
   "codemirror_mode": {
    "name": "ipython",
    "version": 3
   },
   "file_extension": ".py",
   "mimetype": "text/x-python",
   "name": "python",
   "nbconvert_exporter": "python",
   "pygments_lexer": "ipython3",
   "version": "3.11.0"
  },
  "orig_nbformat": 4
 },
 "nbformat": 4,
 "nbformat_minor": 2
}
