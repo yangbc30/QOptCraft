{
 "cells": [
  {
   "attachments": {},
   "cell_type": "markdown",
   "metadata": {},
   "source": [
    "## Scattering optical matrix to unitary"
   ]
  },
  {
   "cell_type": "code",
   "execution_count": null,
   "metadata": {},
   "outputs": [],
   "source": [
    "from qoptcraft.math import haar_random_unitary\n",
    "from qoptcraft.evolution import photon_unitary"
   ]
  },
  {
   "cell_type": "code",
   "execution_count": 2,
   "metadata": {},
   "outputs": [],
   "source": [
    "modes = 2\n",
    "photons = 2\n",
    "scattering = haar_random_unitary(modes)"
   ]
  },
  {
   "cell_type": "code",
   "execution_count": 3,
   "metadata": {},
   "outputs": [
    {
     "data": {
      "text/plain": [
       "array([[ 0.62224776+0.16736712j, -0.58301157+0.3441163j ,\n",
       "         0.08509526-0.3453061j ],\n",
       "       [-0.14223473+0.661882j  ,  0.15926355+0.24082795j,\n",
       "        -0.6647399 -0.12821619j],\n",
       "       [-0.35106042-0.05686906j, -0.5448796 +0.40177697j,\n",
       "        -0.08957428+0.63810694j]], dtype=complex64)"
      ]
     },
     "execution_count": 3,
     "metadata": {},
     "output_type": "execute_result"
    }
   ],
   "source": [
    "photon_unitary(scattering, photons, method=\"heisenberg\")"
   ]
  },
  {
   "cell_type": "code",
   "execution_count": 4,
   "metadata": {},
   "outputs": [
    {
     "data": {
      "text/plain": [
       "array([[ 0.62224773+0.16736712j, -0.58301156+0.34411631j,\n",
       "         0.08509526-0.3453061j ],\n",
       "       [-0.14223473+0.66188201j,  0.15926355+0.24082795j,\n",
       "        -0.66473989-0.12821619j],\n",
       "       [-0.35106041-0.05686905j, -0.5448796 +0.40177697j,\n",
       "        -0.08957428+0.63810692j]])"
      ]
     },
     "execution_count": 4,
     "metadata": {},
     "output_type": "execute_result"
    }
   ],
   "source": [
    "photon_unitary(scattering, photons, method=\"hamiltonian\")"
   ]
  },
  {
   "cell_type": "code",
   "execution_count": 5,
   "metadata": {},
   "outputs": [
    {
     "data": {
      "text/plain": [
       "array([[ 0.62224773+0.16736712j, -0.58301156+0.34411631j,\n",
       "         0.08509526-0.3453061j ],\n",
       "       [-0.14223473+0.66188201j,  0.15926355+0.24082795j,\n",
       "        -0.66473989-0.12821619j],\n",
       "       [-0.35106041-0.05686905j, -0.5448796 +0.40177697j,\n",
       "        -0.08957428+0.63810692j]])"
      ]
     },
     "execution_count": 5,
     "metadata": {},
     "output_type": "execute_result"
    }
   ],
   "source": [
    "photon_unitary(scattering, photons, method=\"permanent glynn\")"
   ]
  },
  {
   "cell_type": "code",
   "execution_count": 6,
   "metadata": {},
   "outputs": [
    {
     "data": {
      "text/plain": [
       "array([[ 0.62224773+0.16736712j, -0.58301156+0.34411631j,\n",
       "         0.08509526-0.3453061j ],\n",
       "       [-0.14223473+0.66188201j,  0.15926355+0.24082795j,\n",
       "        -0.66473989-0.12821619j],\n",
       "       [-0.35106041-0.05686905j, -0.5448796 +0.40177697j,\n",
       "        -0.08957428+0.63810692j]])"
      ]
     },
     "execution_count": 6,
     "metadata": {},
     "output_type": "execute_result"
    }
   ],
   "source": [
    "photon_unitary(scattering, photons, method=\"permanent ryser\")"
   ]
  },
  {
   "attachments": {},
   "cell_type": "markdown",
   "metadata": {},
   "source": [
    "## Unitary matrix to scattering optical matrix"
   ]
  },
  {
   "cell_type": "code",
   "execution_count": 7,
   "metadata": {},
   "outputs": [],
   "source": [
    "from qoptcraft import haar_random_unitary, photon_unitary, scattering_from_unitary"
   ]
  },
  {
   "cell_type": "code",
   "execution_count": 8,
   "metadata": {},
   "outputs": [
    {
     "name": "stdout",
     "output_type": "stream",
     "text": [
      "[[ 0.73218165-0.14579358j -0.3330695 +0.5759505j ]\n",
      " [ 0.26699816-0.60939827j -0.31595657-0.67640016j]]\n"
     ]
    }
   ],
   "source": [
    "modes = 2\n",
    "photons = 2\n",
    "S = haar_random_unitary(modes)\n",
    "print(S)"
   ]
  },
  {
   "cell_type": "code",
   "execution_count": 9,
   "metadata": {},
   "outputs": [
    {
     "name": "stdout",
     "output_type": "stream",
     "text": [
      "[[ 0.74655592+0.j         -0.4391329 +0.49981653j]\n",
      " [ 0.38086566-0.54552325j -0.17778012-0.72507928j]]\n"
     ]
    }
   ],
   "source": [
    "U = photon_unitary(S, photons)\n",
    "S_rebuilt = scattering_from_unitary(U, modes, photons)\n",
    "print(S_rebuilt)"
   ]
  },
  {
   "attachments": {},
   "cell_type": "markdown",
   "metadata": {},
   "source": [
    "We can check that both matrices are proportional:"
   ]
  },
  {
   "cell_type": "code",
   "execution_count": 10,
   "metadata": {},
   "outputs": [
    {
     "data": {
      "text/plain": [
       "array([[ 9.80745894e-01+1.95288227e-01j, -2.22044605e-16-2.22044605e-16j],\n",
       "       [-2.22044605e-16+1.38777878e-16j,  9.80745894e-01+1.95288227e-01j]])"
      ]
     },
     "execution_count": 10,
     "metadata": {},
     "output_type": "execute_result"
    }
   ],
   "source": [
    "S.conj().T @ S_rebuilt"
   ]
  }
 ],
 "metadata": {
  "kernelspec": {
   "display_name": "quantum",
   "language": "python",
   "name": "python3"
  },
  "language_info": {
   "codemirror_mode": {
    "name": "ipython",
    "version": 3
   },
   "file_extension": ".py",
   "mimetype": "text/x-python",
   "name": "python",
   "nbconvert_exporter": "python",
   "pygments_lexer": "ipython3",
   "version": "3.11.0"
  },
  "orig_nbformat": 4
 },
 "nbformat": 4,
 "nbformat_minor": 2
}
