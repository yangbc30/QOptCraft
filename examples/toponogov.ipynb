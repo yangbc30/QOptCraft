{
 "cells": [
  {
   "attachments": {},
   "cell_type": "markdown",
   "metadata": {},
   "source": [
    "## Approximate a unitary with linear optics using Toponogov's theorem"
   ]
  },
  {
   "cell_type": "markdown",
   "metadata": {},
   "source": [
    "We can easily approximate a unitary with a certain error using the function `toponogov`"
   ]
  },
  {
   "cell_type": "code",
   "execution_count": 1,
   "metadata": {},
   "outputs": [],
   "source": [
    "import numpy as np\n",
    "\n",
    "np.set_printoptions(\n",
    "    precision=3, edgeitems=30, linewidth=100000, formatter=dict(float=lambda x: \"%.3g\" % x)\n",
    ")"
   ]
  },
  {
   "cell_type": "code",
   "execution_count": 2,
   "metadata": {},
   "outputs": [
    {
     "data": {
      "text/plain": [
       "array([[ 0.408+0.000e+00j,  0.408+0.000e+00j,  0.408+0.000e+00j,  0.408+0.000e+00j,  0.408+0.000e+00j,  0.408+0.000e+00j],\n",
       "       [ 0.408+0.000e+00j,  0.204+3.536e-01j, -0.204+3.536e-01j, -0.408+5.000e-17j, -0.204-3.536e-01j,  0.204-3.536e-01j],\n",
       "       [ 0.408+0.000e+00j, -0.204+3.536e-01j, -0.204-3.536e-01j,  0.408-9.999e-17j, -0.204+3.536e-01j, -0.204-3.536e-01j],\n",
       "       [ 0.408+0.000e+00j, -0.408+5.000e-17j,  0.408-9.999e-17j, -0.408+1.500e-16j,  0.408-2.000e-16j, -0.408+2.500e-16j],\n",
       "       [ 0.408+0.000e+00j, -0.204-3.536e-01j, -0.204+3.536e-01j,  0.408-2.000e-16j, -0.204-3.536e-01j, -0.204+3.536e-01j],\n",
       "       [ 0.408+0.000e+00j,  0.204-3.536e-01j, -0.204-3.536e-01j, -0.408+9.752e-16j, -0.204+3.536e-01j,  0.204+3.536e-01j]])"
      ]
     },
     "execution_count": 2,
     "metadata": {},
     "output_type": "execute_result"
    }
   ],
   "source": [
    "from qoptcraft.operators import qft\n",
    "from qoptcraft.toponogov import toponogov\n",
    "\n",
    "unitary = qft(6)\n",
    "unitary"
   ]
  },
  {
   "cell_type": "code",
   "execution_count": 3,
   "metadata": {},
   "outputs": [
    {
     "data": {
      "text/plain": [
       "array([[ 0.658-0.372j, -0.172+0.511j, -0.228-0.165j, -0.076-0.177j,  0.141-0.015j, -0.01 +0.051j],\n",
       "       [-0.172+0.511j, -0.008+0.451j, -0.154+0.374j, -0.334-0.301j,  0.109-0.314j,  0.169+0.026j],\n",
       "       [-0.228-0.165j, -0.154+0.374j,  0.698-0.007j, -0.048-0.325j, -0.127+0.278j, -0.129-0.23j ],\n",
       "       [-0.076-0.177j, -0.334-0.301j, -0.048-0.325j, -0.504-0.157j, -0.298-0.455j,  0.031-0.279j],\n",
       "       [ 0.141-0.015j,  0.109-0.314j, -0.127+0.278j, -0.298-0.455j, -0.159+0.283j, -0.52 +0.322j],\n",
       "       [-0.01 +0.051j,  0.169+0.026j, -0.129-0.23j ,  0.031-0.279j, -0.52 +0.322j,  0.627+0.23j ]])"
      ]
     },
     "execution_count": 3,
     "metadata": {},
     "output_type": "execute_result"
    }
   ],
   "source": [
    "approx_unitary, error = toponogov(unitary, modes=3, photons=2)\n",
    "approx_unitary"
   ]
  },
  {
   "attachments": {},
   "cell_type": "markdown",
   "metadata": {},
   "source": [
    "We can iterate for different seeds:"
   ]
  },
  {
   "cell_type": "code",
   "execution_count": null,
   "metadata": {},
   "outputs": [
    {
     "name": "stdout",
     "output_type": "stream",
     "text": [
      "error = 2.149476184310919\n",
      "error = 2.5271017897611285\n",
      "error = 2.527101796174862\n",
      "error = 2.5039721228316294\n",
      "error = 2.906221026045759\n",
      "error = 2.9062211286670045\n",
      "error = 2.6801396584067776\n",
      "error = 2.527101924565134\n",
      "error = 2.680139708899764\n",
      "error = 2.294487579760986\n",
      "error = 2.5271017900903328\n",
      "error = 2.503972071109014\n",
      "error = 2.5271017883030384\n",
      "error = 2.46576875911078\n",
      "error = 2.527101790353126\n",
      "error = 2.465768761916665\n",
      "error = 2.478097649614435\n",
      "error = 2.4657688455914335\n",
      "error = 2.4657687607842385\n",
      "error = 2.5271017946804175\n",
      "error = 2.5039721205371226\n",
      "error = 2.6801396562118085\n",
      "error = 2.906221134758481\n",
      "error = 2.6801397117126275\n",
      "error = 2.1494761882728466\n",
      "error = 2.5271019219738786\n"
     ]
    }
   ],
   "source": [
    "min_error = 10\n",
    "for seed in range(30):\n",
    "    approx_unitary, error = toponogov(unitary, modes, photons, seed=seed)\n",
    "    print(f\"{error = }\")\n",
    "    if error < min_error:\n",
    "        min_approx_unitary = approx_unitary\n",
    "        min_error = error"
   ]
  },
  {
   "cell_type": "code",
   "execution_count": null,
   "metadata": {},
   "outputs": [
    {
     "data": {
      "text/plain": [
       "2.1494761713199346"
      ]
     },
     "execution_count": 13,
     "metadata": {},
     "output_type": "execute_result"
    }
   ],
   "source": [
    "min_error"
   ]
  }
 ],
 "metadata": {
  "kernelspec": {
   "display_name": "qoptics",
   "language": "python",
   "name": "python3"
  },
  "language_info": {
   "codemirror_mode": {
    "name": "ipython",
    "version": 3
   },
   "file_extension": ".py",
   "mimetype": "text/x-python",
   "name": "python",
   "nbconvert_exporter": "python",
   "pygments_lexer": "ipython3",
   "version": "3.11.0"
  },
  "orig_nbformat": 4
 },
 "nbformat": 4,
 "nbformat_minor": 2
}
